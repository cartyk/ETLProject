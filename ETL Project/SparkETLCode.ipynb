{
 "cells": [
  {
   "cell_type": "code",
   "execution_count": 10,
   "id": "02c4db78-6c13-4405-b996-caceabfa0cd8",
   "metadata": {
    "execution": {
     "iopub.execute_input": "2023-04-11T15:44:52.979489Z",
     "iopub.status.busy": "2023-04-11T15:44:52.979081Z",
     "iopub.status.idle": "2023-04-11T15:44:53.260568Z",
     "shell.execute_reply": "2023-04-11T15:44:53.216649Z",
     "shell.execute_reply.started": "2023-04-11T15:44:52.979457Z"
    },
    "tags": []
   },
   "outputs": [
    {
     "data": {
      "application/vnd.jupyter.widget-view+json": {
       "model_id": "833bdb1f3276499380950735c5dc7da5",
       "version_major": 2,
       "version_minor": 0
      },
      "text/plain": [
       "VBox()"
      ]
     },
     "metadata": {},
     "output_type": "display_data"
    },
    {
     "data": {
      "application/vnd.jupyter.widget-view+json": {
       "model_id": "",
       "version_major": 2,
       "version_minor": 0
      },
      "text/plain": [
       "FloatProgress(value=0.0, bar_style='info', description='Progress:', layout=Layout(height='25px', width='50%'),…"
      ]
     },
     "metadata": {},
     "output_type": "display_data"
    }
   ],
   "source": [
    "### ETL Project (Spar Nord Bank ATM Data Mart)"
   ]
  },
  {
   "cell_type": "code",
   "execution_count": 11,
   "id": "0c070d80-f594-49cb-b6c0-2a74615ef992",
   "metadata": {
    "execution": {
     "iopub.execute_input": "2023-04-11T15:44:53.576722Z",
     "iopub.status.busy": "2023-04-11T15:44:53.576363Z",
     "iopub.status.idle": "2023-04-11T15:44:53.816055Z",
     "shell.execute_reply": "2023-04-11T15:44:53.814872Z",
     "shell.execute_reply.started": "2023-04-11T15:44:53.576664Z"
    },
    "tags": []
   },
   "outputs": [
    {
     "data": {
      "application/vnd.jupyter.widget-view+json": {
       "model_id": "738a02a3a85c41e28c75d37162dc07e8",
       "version_major": 2,
       "version_minor": 0
      },
      "text/plain": [
       "VBox()"
      ]
     },
     "metadata": {},
     "output_type": "display_data"
    },
    {
     "data": {
      "application/vnd.jupyter.widget-view+json": {
       "model_id": "",
       "version_major": 2,
       "version_minor": 0
      },
      "text/plain": [
       "FloatProgress(value=0.0, bar_style='info', description='Progress:', layout=Layout(height='25px', width='50%'),…"
      ]
     },
     "metadata": {},
     "output_type": "display_data"
    }
   ],
   "source": [
    "#### Importing necessary libraries and setting up SparkSession"
   ]
  },
  {
   "cell_type": "code",
   "execution_count": 12,
   "id": "e059c18c-afea-45f3-bd27-b9f854a990cf",
   "metadata": {
    "execution": {
     "iopub.execute_input": "2023-04-11T15:44:54.168079Z",
     "iopub.status.busy": "2023-04-11T15:44:54.167684Z",
     "iopub.status.idle": "2023-04-11T15:44:54.403523Z",
     "shell.execute_reply": "2023-04-11T15:44:54.402266Z",
     "shell.execute_reply.started": "2023-04-11T15:44:54.168047Z"
    },
    "tags": []
   },
   "outputs": [
    {
     "data": {
      "application/vnd.jupyter.widget-view+json": {
       "model_id": "53216154043540c49d091170c24d857c",
       "version_major": 2,
       "version_minor": 0
      },
      "text/plain": [
       "VBox()"
      ]
     },
     "metadata": {},
     "output_type": "display_data"
    },
    {
     "data": {
      "application/vnd.jupyter.widget-view+json": {
       "model_id": "",
       "version_major": 2,
       "version_minor": 0
      },
      "text/plain": [
       "FloatProgress(value=0.0, bar_style='info', description='Progress:', layout=Layout(height='25px', width='50%'),…"
      ]
     },
     "metadata": {},
     "output_type": "display_data"
    }
   ],
   "source": [
    "import os\n",
    "import sys\n",
    "os.environ[\"PYSPARK_PYTHON\"] = \"/opt/cloudera/parcels/Anaconda/bin/python\"\n",
    "os.environ[\"JAVA_HOME\"] = \"/usr/java/jdk1.8.0_232-cloudera/jre\"\n",
    "os.environ[\"SPARK_HOME\"]=\"/opt/cloudera/parcels/SPARK2-2.3.0.cloudera2-1.cdh5.13.3.p0.316101/lib/spark2/\"\n",
    "os.environ[\"PYLIB\"] = os.environ[\"SPARK_HOME\"] + \"/python/lib\"\n",
    "sys.path.insert(0, os.environ[\"PYLIB\"] +\"/py4j-0.10.6-src.zip\")\n",
    "sys.path.insert(0, os.environ[\"PYLIB\"] +\"/pyspark.zip\")"
   ]
  },
  {
   "cell_type": "code",
   "execution_count": 13,
   "id": "a71d84f2-093b-4d14-89d0-0db9bf30724e",
   "metadata": {
    "execution": {
     "iopub.execute_input": "2023-04-11T15:44:54.847149Z",
     "iopub.status.busy": "2023-04-11T15:44:54.846789Z",
     "iopub.status.idle": "2023-04-11T15:44:55.994589Z",
     "shell.execute_reply": "2023-04-11T15:44:55.993520Z",
     "shell.execute_reply.started": "2023-04-11T15:44:54.847121Z"
    },
    "tags": []
   },
   "outputs": [
    {
     "data": {
      "application/vnd.jupyter.widget-view+json": {
       "model_id": "fc948398fea841eba63107bfa8aba351",
       "version_major": 2,
       "version_minor": 0
      },
      "text/plain": [
       "VBox()"
      ]
     },
     "metadata": {},
     "output_type": "display_data"
    },
    {
     "data": {
      "application/vnd.jupyter.widget-view+json": {
       "model_id": "",
       "version_major": 2,
       "version_minor": 0
      },
      "text/plain": [
       "FloatProgress(value=0.0, bar_style='info', description='Progress:', layout=Layout(height='25px', width='50%'),…"
      ]
     },
     "metadata": {},
     "output_type": "display_data"
    },
    {
     "name": "stdout",
     "output_type": "stream",
     "text": [
      "<pyspark.sql.session.SparkSession object at 0x7fc8ddd74b50>"
     ]
    }
   ],
   "source": [
    "from pyspark.sql import SparkSession\n",
    "spark = SparkSession.builder.appName('jupyter_Spark').master(\"local\").getOrCreate()\n",
    "spark"
   ]
  },
  {
   "cell_type": "code",
   "execution_count": 14,
   "id": "ed914e41-8ff5-4497-9a00-3680594bb0f3",
   "metadata": {
    "execution": {
     "iopub.execute_input": "2023-04-11T15:44:56.062478Z",
     "iopub.status.busy": "2023-04-11T15:44:56.062136Z",
     "iopub.status.idle": "2023-04-11T15:44:56.379330Z",
     "shell.execute_reply": "2023-04-11T15:44:56.378500Z",
     "shell.execute_reply.started": "2023-04-11T15:44:56.062446Z"
    },
    "tags": []
   },
   "outputs": [
    {
     "data": {
      "application/vnd.jupyter.widget-view+json": {
       "model_id": "825541de42f640948baa66c5db67a91c",
       "version_major": 2,
       "version_minor": 0
      },
      "text/plain": [
       "VBox()"
      ]
     },
     "metadata": {},
     "output_type": "display_data"
    },
    {
     "data": {
      "application/vnd.jupyter.widget-view+json": {
       "model_id": "",
       "version_major": 2,
       "version_minor": 0
      },
      "text/plain": [
       "FloatProgress(value=0.0, bar_style='info', description='Progress:', layout=Layout(height='25px', width='50%'),…"
      ]
     },
     "metadata": {},
     "output_type": "display_data"
    }
   ],
   "source": [
    "### Reading the data to Spark"
   ]
  },
  {
   "cell_type": "code",
   "execution_count": 15,
   "id": "bc84e023-d6e3-4a88-b411-6974d79f6652",
   "metadata": {
    "execution": {
     "iopub.execute_input": "2023-04-11T15:44:56.398116Z",
     "iopub.status.busy": "2023-04-11T15:44:56.397798Z",
     "iopub.status.idle": "2023-04-11T15:44:56.675290Z",
     "shell.execute_reply": "2023-04-11T15:44:56.673978Z",
     "shell.execute_reply.started": "2023-04-11T15:44:56.398088Z"
    },
    "tags": []
   },
   "outputs": [
    {
     "data": {
      "application/vnd.jupyter.widget-view+json": {
       "model_id": "99ee178d73864f4fabe4f0f193640bb4",
       "version_major": 2,
       "version_minor": 0
      },
      "text/plain": [
       "VBox()"
      ]
     },
     "metadata": {},
     "output_type": "display_data"
    },
    {
     "data": {
      "application/vnd.jupyter.widget-view+json": {
       "model_id": "",
       "version_major": 2,
       "version_minor": 0
      },
      "text/plain": [
       "FloatProgress(value=0.0, bar_style='info', description='Progress:', layout=Layout(height='25px', width='50%'),…"
      ]
     },
     "metadata": {},
     "output_type": "display_data"
    }
   ],
   "source": [
    "#### Reading the data from HDFS, using default schema at first, just to make sure data is getting loaded"
   ]
  },
  {
   "cell_type": "code",
   "execution_count": 16,
   "id": "23fab1b9-17e5-483c-8457-827740f980d5",
   "metadata": {
    "execution": {
     "iopub.execute_input": "2023-04-11T15:44:56.677869Z",
     "iopub.status.busy": "2023-04-11T15:44:56.677193Z",
     "iopub.status.idle": "2023-04-11T15:45:24.707913Z",
     "shell.execute_reply": "2023-04-11T15:45:24.706816Z",
     "shell.execute_reply.started": "2023-04-11T15:44:56.677825Z"
    },
    "tags": []
   },
   "outputs": [
    {
     "data": {
      "application/vnd.jupyter.widget-view+json": {
       "model_id": "e6d8d0a5e0044257a50109dc09156499",
       "version_major": 2,
       "version_minor": 0
      },
      "text/plain": [
       "VBox()"
      ]
     },
     "metadata": {},
     "output_type": "display_data"
    },
    {
     "data": {
      "application/vnd.jupyter.widget-view+json": {
       "model_id": "",
       "version_major": 2,
       "version_minor": 0
      },
      "text/plain": [
       "FloatProgress(value=0.0, bar_style='info', description='Progress:', layout=Layout(height='25px', width='50%'),…"
      ]
     },
     "metadata": {},
     "output_type": "display_data"
    },
    {
     "name": "stdout",
     "output_type": "stream",
     "text": [
      "+----+-------+---+------+---+------+---+---+----------+-----------+----+----+------+------+----+----------+----+----------+----+----+-----+------+-------+--------+------+----+----+----+----+-----+----+----+----+----------+\n",
      "| _c0|    _c1|_c2|   _c3|_c4|   _c5|_c6|_c7|       _c8|        _c9|_c10|_c11|  _c12|  _c13|_c14|      _c15|_c16|      _c17|_c18|_c19| _c20|  _c21|   _c22|    _c23|  _c24|_c25|_c26|_c27|_c28| _c29|_c30|_c31|_c32|      _c33|\n",
      "+----+-------+---+------+---+------+---+---+----------+-----------+----+----+------+------+----+----------+----+----------+----+----+-----+------+-------+--------+------+----+----+----+----+-----+----+----+----+----------+\n",
      "|2017|January|  1|Sunday|  0|Active|  1|NCR|NÃƒÂ¦stved|Farimagsvej|   8|4700|55.233|11.763| DKK|MasterCard|5643|Withdrawal|null|null|55.23|11.761|2616038|Naestved|281.15|1014|  87|   7| 260|0.215|  92| 500|Rain|light rain|\n",
      "+----+-------+---+------+---+------+---+---+----------+-----------+----+----+------+------+----+----------+----+----------+----+----+-----+------+-------+--------+------+----+----+----+----+-----+----+----+----+----------+\n",
      "only showing top 1 row"
     ]
    }
   ],
   "source": [
    "df = spark.read.csv(\"/user/root/spar_nord_bank_atm/part-m-00000\", header = False, inferSchema = True)\n",
    "df.show(1)"
   ]
  },
  {
   "cell_type": "code",
   "execution_count": 17,
   "id": "7811bb7f-2129-4d90-a099-aa7fed165046",
   "metadata": {
    "execution": {
     "iopub.execute_input": "2023-04-11T15:45:24.711053Z",
     "iopub.status.busy": "2023-04-11T15:45:24.710461Z",
     "iopub.status.idle": "2023-04-11T15:45:24.974255Z",
     "shell.execute_reply": "2023-04-11T15:45:24.972791Z",
     "shell.execute_reply.started": "2023-04-11T15:45:24.711006Z"
    }
   },
   "outputs": [
    {
     "data": {
      "application/vnd.jupyter.widget-view+json": {
       "model_id": "da2e33c0d2134c3ca762fc2fa98ba0f9",
       "version_major": 2,
       "version_minor": 0
      },
      "text/plain": [
       "VBox()"
      ]
     },
     "metadata": {},
     "output_type": "display_data"
    },
    {
     "data": {
      "application/vnd.jupyter.widget-view+json": {
       "model_id": "",
       "version_major": 2,
       "version_minor": 0
      },
      "text/plain": [
       "FloatProgress(value=0.0, bar_style='info', description='Progress:', layout=Layout(height='25px', width='50%'),…"
      ]
     },
     "metadata": {},
     "output_type": "display_data"
    }
   ],
   "source": [
    "####  Creating custom input schema using StrucType and reading the data "
   ]
  },
  {
   "cell_type": "code",
   "execution_count": 18,
   "id": "7ad3783b-09ec-45b7-ad6f-4abe7a6a84ef",
   "metadata": {
    "execution": {
     "iopub.execute_input": "2023-04-11T15:45:24.977545Z",
     "iopub.status.busy": "2023-04-11T15:45:24.976801Z",
     "iopub.status.idle": "2023-04-11T15:45:25.308400Z",
     "shell.execute_reply": "2023-04-11T15:45:25.305212Z",
     "shell.execute_reply.started": "2023-04-11T15:45:24.977504Z"
    },
    "tags": []
   },
   "outputs": [
    {
     "data": {
      "application/vnd.jupyter.widget-view+json": {
       "model_id": "639a2a9899b14218a3295163670a5c4c",
       "version_major": 2,
       "version_minor": 0
      },
      "text/plain": [
       "VBox()"
      ]
     },
     "metadata": {},
     "output_type": "display_data"
    },
    {
     "data": {
      "application/vnd.jupyter.widget-view+json": {
       "model_id": "",
       "version_major": 2,
       "version_minor": 0
      },
      "text/plain": [
       "FloatProgress(value=0.0, bar_style='info', description='Progress:', layout=Layout(height='25px', width='50%'),…"
      ]
     },
     "metadata": {},
     "output_type": "display_data"
    }
   ],
   "source": [
    "from pyspark.sql.types import StructType, StructField, IntegerType, StringType, BooleanType, DoubleType, LongType"
   ]
  },
  {
   "cell_type": "code",
   "execution_count": 19,
   "id": "69fa30af-c455-44df-8112-b75624c8ad50",
   "metadata": {
    "execution": {
     "iopub.execute_input": "2023-04-11T15:45:25.311420Z",
     "iopub.status.busy": "2023-04-11T15:45:25.310353Z",
     "iopub.status.idle": "2023-04-11T15:45:25.676847Z",
     "shell.execute_reply": "2023-04-11T15:45:25.675834Z",
     "shell.execute_reply.started": "2023-04-11T15:45:25.311234Z"
    },
    "tags": []
   },
   "outputs": [
    {
     "data": {
      "application/vnd.jupyter.widget-view+json": {
       "model_id": "6acc3bccf71c4bd3a98c6679d61625bd",
       "version_major": 2,
       "version_minor": 0
      },
      "text/plain": [
       "VBox()"
      ]
     },
     "metadata": {},
     "output_type": "display_data"
    },
    {
     "data": {
      "application/vnd.jupyter.widget-view+json": {
       "model_id": "",
       "version_major": 2,
       "version_minor": 0
      },
      "text/plain": [
       "FloatProgress(value=0.0, bar_style='info', description='Progress:', layout=Layout(height='25px', width='50%'),…"
      ]
     },
     "metadata": {},
     "output_type": "display_data"
    }
   ],
   "source": [
    "Schema = StructType([StructField('year', IntegerType(), nullable = True),\n",
    "                        StructField('month', StringType(), True),\n",
    "                        StructField('day', IntegerType(), True),\n",
    "                        StructField('weekday', StringType(), True),\n",
    "                        StructField('hour', IntegerType(), True),\n",
    "                        StructField('atm_status', StringType(), True),\n",
    "                        StructField('atm_id', StringType(), True),\n",
    "                        StructField('atm_manufacturer', StringType(), True),\n",
    "                        StructField('atm_location', StringType(), True),\n",
    "                        StructField('atm_streetname', StringType(), True),\n",
    "                        StructField('atm_street_number', IntegerType(), True),\n",
    "                        StructField('atm_zipcode', IntegerType(), True),\n",
    "                        StructField('atm_lat', DoubleType(), True),\n",
    "                        StructField('atm_lon', DoubleType(), True),\n",
    "                        StructField('currency', StringType(), True),\n",
    "                        StructField('card_type', StringType(), True),\n",
    "                        StructField('transaction_amount', IntegerType(), True),\n",
    "                        StructField('service', StringType(), True),\n",
    "                        StructField('message_code', StringType(), True),\n",
    "                        StructField('message_text', StringType(), True),\n",
    "                        StructField('weather_lat', DoubleType(), True),\n",
    "                        StructField('weather_lon', DoubleType(), True),\n",
    "                        StructField('weather_city_id', IntegerType(), True),\n",
    "                        StructField('weather_city_name', StringType(), True),\n",
    "                        StructField('temp', DoubleType(), True),\n",
    "                        StructField('pressure', IntegerType(), True),\n",
    "                        StructField('humidity', IntegerType(), True),\n",
    "                        StructField('wind_speed', IntegerType(), True),\n",
    "                        StructField('wind_deg', IntegerType(), True),\n",
    "                        StructField('rain_3h', DoubleType(), True),\n",
    "                        StructField('clouds_all', IntegerType(), True),\n",
    "                        StructField('weather_id', IntegerType(), True),\n",
    "                        StructField('weather_main', StringType(), True),\n",
    "                        StructField('weather_description', StringType(), True)])"
   ]
  },
  {
   "cell_type": "code",
   "execution_count": 20,
   "id": "10ae5bdb-ea80-4ef4-bfa0-ab5080ab5b01",
   "metadata": {
    "execution": {
     "iopub.execute_input": "2023-04-11T15:45:25.679849Z",
     "iopub.status.busy": "2023-04-11T15:45:25.678729Z",
     "iopub.status.idle": "2023-04-11T15:45:25.983523Z",
     "shell.execute_reply": "2023-04-11T15:45:25.982688Z",
     "shell.execute_reply.started": "2023-04-11T15:45:25.679812Z"
    },
    "tags": []
   },
   "outputs": [
    {
     "data": {
      "application/vnd.jupyter.widget-view+json": {
       "model_id": "ba1cbf4c7cc94bdb9e33a35e0a9ec40f",
       "version_major": 2,
       "version_minor": 0
      },
      "text/plain": [
       "VBox()"
      ]
     },
     "metadata": {},
     "output_type": "display_data"
    },
    {
     "data": {
      "application/vnd.jupyter.widget-view+json": {
       "model_id": "",
       "version_major": 2,
       "version_minor": 0
      },
      "text/plain": [
       "FloatProgress(value=0.0, bar_style='info', description='Progress:', layout=Layout(height='25px', width='50%'),…"
      ]
     },
     "metadata": {},
     "output_type": "display_data"
    }
   ],
   "source": [
    "df = spark.read.csv(\"/user/root/spar_nord_bank_atm/part-m-00000\", header = False, schema = Schema)"
   ]
  },
  {
   "cell_type": "code",
   "execution_count": 21,
   "id": "f84cec34-504f-4ca9-a5cd-914ef87688ce",
   "metadata": {
    "execution": {
     "iopub.execute_input": "2023-04-11T15:45:25.989220Z",
     "iopub.status.busy": "2023-04-11T15:45:25.988943Z",
     "iopub.status.idle": "2023-04-11T15:45:26.294265Z",
     "shell.execute_reply": "2023-04-11T15:45:26.292943Z",
     "shell.execute_reply.started": "2023-04-11T15:45:25.989192Z"
    },
    "tags": []
   },
   "outputs": [
    {
     "data": {
      "application/vnd.jupyter.widget-view+json": {
       "model_id": "752ba3d0384b4b26b93c3f8e8875370f",
       "version_major": 2,
       "version_minor": 0
      },
      "text/plain": [
       "VBox()"
      ]
     },
     "metadata": {},
     "output_type": "display_data"
    },
    {
     "data": {
      "application/vnd.jupyter.widget-view+json": {
       "model_id": "",
       "version_major": 2,
       "version_minor": 0
      },
      "text/plain": [
       "FloatProgress(value=0.0, bar_style='info', description='Progress:', layout=Layout(height='25px', width='50%'),…"
      ]
     },
     "metadata": {},
     "output_type": "display_data"
    }
   ],
   "source": [
    "#### Verifying the count of the records loaded into the Dataframe"
   ]
  },
  {
   "cell_type": "code",
   "execution_count": 22,
   "id": "ff663e17-f04d-4664-98e3-9c99ff0d3a9d",
   "metadata": {
    "execution": {
     "iopub.execute_input": "2023-04-11T15:45:26.297785Z",
     "iopub.status.busy": "2023-04-11T15:45:26.297039Z",
     "iopub.status.idle": "2023-04-11T15:45:30.399541Z",
     "shell.execute_reply": "2023-04-11T15:45:30.398473Z",
     "shell.execute_reply.started": "2023-04-11T15:45:26.297743Z"
    },
    "tags": []
   },
   "outputs": [
    {
     "data": {
      "application/vnd.jupyter.widget-view+json": {
       "model_id": "5db035247839487da26cdff6c48f9a29",
       "version_major": 2,
       "version_minor": 0
      },
      "text/plain": [
       "VBox()"
      ]
     },
     "metadata": {},
     "output_type": "display_data"
    },
    {
     "data": {
      "application/vnd.jupyter.widget-view+json": {
       "model_id": "",
       "version_major": 2,
       "version_minor": 0
      },
      "text/plain": [
       "FloatProgress(value=0.0, bar_style='info', description='Progress:', layout=Layout(height='25px', width='50%'),…"
      ]
     },
     "metadata": {},
     "output_type": "display_data"
    },
    {
     "name": "stdout",
     "output_type": "stream",
     "text": [
      "2468572"
     ]
    }
   ],
   "source": [
    "df.select('*').count()"
   ]
  },
  {
   "cell_type": "code",
   "execution_count": 23,
   "id": "db968964-6a5b-4eff-98b2-1b53d6aa73e0",
   "metadata": {
    "execution": {
     "iopub.execute_input": "2023-04-11T15:45:30.401456Z",
     "iopub.status.busy": "2023-04-11T15:45:30.400847Z",
     "iopub.status.idle": "2023-04-11T15:45:30.676009Z",
     "shell.execute_reply": "2023-04-11T15:45:30.674858Z",
     "shell.execute_reply.started": "2023-04-11T15:45:30.401416Z"
    },
    "tags": []
   },
   "outputs": [
    {
     "data": {
      "application/vnd.jupyter.widget-view+json": {
       "model_id": "911ebf42f7474592a3a009033ff3ccc8",
       "version_major": 2,
       "version_minor": 0
      },
      "text/plain": [
       "VBox()"
      ]
     },
     "metadata": {},
     "output_type": "display_data"
    },
    {
     "data": {
      "application/vnd.jupyter.widget-view+json": {
       "model_id": "",
       "version_major": 2,
       "version_minor": 0
      },
      "text/plain": [
       "FloatProgress(value=0.0, bar_style='info', description='Progress:', layout=Layout(height='25px', width='50%'),…"
      ]
     },
     "metadata": {},
     "output_type": "display_data"
    }
   ],
   "source": [
    "#### Taking a glance at the Schema, Dataframe and the Columns"
   ]
  },
  {
   "cell_type": "code",
   "execution_count": 24,
   "id": "6bf6cb23-03b6-4df9-979d-d2123bb5e0f8",
   "metadata": {
    "execution": {
     "iopub.execute_input": "2023-04-11T15:45:30.678334Z",
     "iopub.status.busy": "2023-04-11T15:45:30.677611Z",
     "iopub.status.idle": "2023-04-11T15:45:31.060610Z",
     "shell.execute_reply": "2023-04-11T15:45:31.003624Z",
     "shell.execute_reply.started": "2023-04-11T15:45:30.678294Z"
    },
    "tags": []
   },
   "outputs": [
    {
     "data": {
      "application/vnd.jupyter.widget-view+json": {
       "model_id": "0c5b0494049840159b589231af8f1b82",
       "version_major": 2,
       "version_minor": 0
      },
      "text/plain": [
       "VBox()"
      ]
     },
     "metadata": {},
     "output_type": "display_data"
    },
    {
     "data": {
      "application/vnd.jupyter.widget-view+json": {
       "model_id": "",
       "version_major": 2,
       "version_minor": 0
      },
      "text/plain": [
       "FloatProgress(value=0.0, bar_style='info', description='Progress:', layout=Layout(height='25px', width='50%'),…"
      ]
     },
     "metadata": {},
     "output_type": "display_data"
    },
    {
     "name": "stdout",
     "output_type": "stream",
     "text": [
      "root\n",
      " |-- year: integer (nullable = true)\n",
      " |-- month: string (nullable = true)\n",
      " |-- day: integer (nullable = true)\n",
      " |-- weekday: string (nullable = true)\n",
      " |-- hour: integer (nullable = true)\n",
      " |-- atm_status: string (nullable = true)\n",
      " |-- atm_id: string (nullable = true)\n",
      " |-- atm_manufacturer: string (nullable = true)\n",
      " |-- atm_location: string (nullable = true)\n",
      " |-- atm_streetname: string (nullable = true)\n",
      " |-- atm_street_number: integer (nullable = true)\n",
      " |-- atm_zipcode: integer (nullable = true)\n",
      " |-- atm_lat: double (nullable = true)\n",
      " |-- atm_lon: double (nullable = true)\n",
      " |-- currency: string (nullable = true)\n",
      " |-- card_type: string (nullable = true)\n",
      " |-- transaction_amount: integer (nullable = true)\n",
      " |-- service: string (nullable = true)\n",
      " |-- message_code: string (nullable = true)\n",
      " |-- message_text: string (nullable = true)\n",
      " |-- weather_lat: double (nullable = true)\n",
      " |-- weather_lon: double (nullable = true)\n",
      " |-- weather_city_id: integer (nullable = true)\n",
      " |-- weather_city_name: string (nullable = true)\n",
      " |-- temp: double (nullable = true)\n",
      " |-- pressure: integer (nullable = true)\n",
      " |-- humidity: integer (nullable = true)\n",
      " |-- wind_speed: integer (nullable = true)\n",
      " |-- wind_deg: integer (nullable = true)\n",
      " |-- rain_3h: double (nullable = true)\n",
      " |-- clouds_all: integer (nullable = true)\n",
      " |-- weather_id: integer (nullable = true)\n",
      " |-- weather_main: string (nullable = true)\n",
      " |-- weather_description: string (nullable = true)"
     ]
    }
   ],
   "source": [
    "df.printSchema()"
   ]
  },
  {
   "cell_type": "code",
   "execution_count": 25,
   "id": "002956ca-b8ce-4336-8a33-d921312a5eff",
   "metadata": {
    "execution": {
     "iopub.execute_input": "2023-04-11T15:45:31.062873Z",
     "iopub.status.busy": "2023-04-11T15:45:31.062396Z",
     "iopub.status.idle": "2023-04-11T15:45:32.129372Z",
     "shell.execute_reply": "2023-04-11T15:45:32.128467Z",
     "shell.execute_reply.started": "2023-04-11T15:45:31.062830Z"
    },
    "tags": []
   },
   "outputs": [
    {
     "data": {
      "application/vnd.jupyter.widget-view+json": {
       "model_id": "8dba3937cce14ebd9d08e50c0170750e",
       "version_major": 2,
       "version_minor": 0
      },
      "text/plain": [
       "VBox()"
      ]
     },
     "metadata": {},
     "output_type": "display_data"
    },
    {
     "data": {
      "application/vnd.jupyter.widget-view+json": {
       "model_id": "",
       "version_major": 2,
       "version_minor": 0
      },
      "text/plain": [
       "FloatProgress(value=0.0, bar_style='info', description='Progress:', layout=Layout(height='25px', width='50%'),…"
      ]
     },
     "metadata": {},
     "output_type": "display_data"
    },
    {
     "name": "stdout",
     "output_type": "stream",
     "text": [
      "+----+-------+---+-------+----+----------+------+----------------+------------+--------------+-----------------+-----------+-------+-------+--------+----------+------------------+----------+------------+------------+-----------+-----------+---------------+-----------------+------+--------+--------+----------+--------+-------+----------+----------+------------+-------------------+\n",
      "|year|  month|day|weekday|hour|atm_status|atm_id|atm_manufacturer|atm_location|atm_streetname|atm_street_number|atm_zipcode|atm_lat|atm_lon|currency| card_type|transaction_amount|   service|message_code|message_text|weather_lat|weather_lon|weather_city_id|weather_city_name|  temp|pressure|humidity|wind_speed|wind_deg|rain_3h|clouds_all|weather_id|weather_main|weather_description|\n",
      "+----+-------+---+-------+----+----------+------+----------------+------------+--------------+-----------------+-----------+-------+-------+--------+----------+------------------+----------+------------+------------+-----------+-----------+---------------+-----------------+------+--------+--------+----------+--------+-------+----------+----------+------------+-------------------+\n",
      "|2017|January|  1| Sunday|   0|    Active|     1|             NCR|  NÃƒÂ¦stved|   Farimagsvej|                8|       4700| 55.233| 11.763|     DKK|MasterCard|              5643|Withdrawal|        null|        null|      55.23|     11.761|        2616038|         Naestved|281.15|    1014|      87|         7|     260|  0.215|        92|       500|        Rain|         light rain|\n",
      "+----+-------+---+-------+----+----------+------+----------------+------------+--------------+-----------------+-----------+-------+-------+--------+----------+------------------+----------+------------+------------+-----------+-----------+---------------+-----------------+------+--------+--------+----------+--------+-------+----------+----------+------------+-------------------+\n",
      "only showing top 1 row"
     ]
    }
   ],
   "source": [
    "df.show(1)"
   ]
  },
  {
   "cell_type": "code",
   "execution_count": 26,
   "id": "681d1f78-002a-406b-a8f2-b77d9a28e4ef",
   "metadata": {
    "execution": {
     "iopub.execute_input": "2023-04-11T15:45:32.132061Z",
     "iopub.status.busy": "2023-04-11T15:45:32.131714Z",
     "iopub.status.idle": "2023-04-11T15:45:32.380884Z",
     "shell.execute_reply": "2023-04-11T15:45:32.379924Z",
     "shell.execute_reply.started": "2023-04-11T15:45:32.132023Z"
    },
    "tags": []
   },
   "outputs": [
    {
     "data": {
      "application/vnd.jupyter.widget-view+json": {
       "model_id": "2486b9ddd6d0448298b9ee623a5392ed",
       "version_major": 2,
       "version_minor": 0
      },
      "text/plain": [
       "VBox()"
      ]
     },
     "metadata": {},
     "output_type": "display_data"
    },
    {
     "data": {
      "application/vnd.jupyter.widget-view+json": {
       "model_id": "",
       "version_major": 2,
       "version_minor": 0
      },
      "text/plain": [
       "FloatProgress(value=0.0, bar_style='info', description='Progress:', layout=Layout(height='25px', width='50%'),…"
      ]
     },
     "metadata": {},
     "output_type": "display_data"
    },
    {
     "name": "stdout",
     "output_type": "stream",
     "text": [
      "['year', 'month', 'day', 'weekday', 'hour', 'atm_status', 'atm_id', 'atm_manufacturer', 'atm_location', 'atm_streetname', 'atm_street_number', 'atm_zipcode', 'atm_lat', 'atm_lon', 'currency', 'card_type', 'transaction_amount', 'service', 'message_code', 'message_text', 'weather_lat', 'weather_lon', 'weather_city_id', 'weather_city_name', 'temp', 'pressure', 'humidity', 'wind_speed', 'wind_deg', 'rain_3h', 'clouds_all', 'weather_id', 'weather_main', 'weather_description']"
     ]
    }
   ],
   "source": [
    "df.columns"
   ]
  },
  {
   "cell_type": "code",
   "execution_count": 27,
   "id": "8ac12924-bdb8-4159-9dee-f4961748146d",
   "metadata": {
    "execution": {
     "iopub.execute_input": "2023-04-11T15:45:32.382977Z",
     "iopub.status.busy": "2023-04-11T15:45:32.382415Z",
     "iopub.status.idle": "2023-04-11T15:45:32.682774Z",
     "shell.execute_reply": "2023-04-11T15:45:32.681250Z",
     "shell.execute_reply.started": "2023-04-11T15:45:32.382938Z"
    },
    "tags": []
   },
   "outputs": [
    {
     "data": {
      "application/vnd.jupyter.widget-view+json": {
       "model_id": "afe72053a5144eca9e62bf9e7a021eaf",
       "version_major": 2,
       "version_minor": 0
      },
      "text/plain": [
       "VBox()"
      ]
     },
     "metadata": {},
     "output_type": "display_data"
    },
    {
     "data": {
      "application/vnd.jupyter.widget-view+json": {
       "model_id": "",
       "version_major": 2,
       "version_minor": 0
      },
      "text/plain": [
       "FloatProgress(value=0.0, bar_style='info', description='Progress:', layout=Layout(height='25px', width='50%'),…"
      ]
     },
     "metadata": {},
     "output_type": "display_data"
    }
   ],
   "source": [
    "### Creating the Dimension and Fact tables"
   ]
  },
  {
   "cell_type": "code",
   "execution_count": 28,
   "id": "274aa1ae-45a1-4760-b40a-2f4f74d87931",
   "metadata": {
    "execution": {
     "iopub.execute_input": "2023-04-11T15:45:32.685732Z",
     "iopub.status.busy": "2023-04-11T15:45:32.684879Z",
     "iopub.status.idle": "2023-04-11T15:45:32.993899Z",
     "shell.execute_reply": "2023-04-11T15:45:32.993136Z",
     "shell.execute_reply.started": "2023-04-11T15:45:32.685691Z"
    },
    "tags": []
   },
   "outputs": [
    {
     "data": {
      "application/vnd.jupyter.widget-view+json": {
       "model_id": "58f5845caf654eaf9fd13d8146ec8b39",
       "version_major": 2,
       "version_minor": 0
      },
      "text/plain": [
       "VBox()"
      ]
     },
     "metadata": {},
     "output_type": "display_data"
    },
    {
     "data": {
      "application/vnd.jupyter.widget-view+json": {
       "model_id": "",
       "version_major": 2,
       "version_minor": 0
      },
      "text/plain": [
       "FloatProgress(value=0.0, bar_style='info', description='Progress:', layout=Layout(height='25px', width='50%'),…"
      ]
     },
     "metadata": {},
     "output_type": "display_data"
    }
   ],
   "source": [
    "#### Creating a dataframe for Location Dimension according to Target Dimension Model"
   ]
  },
  {
   "cell_type": "code",
   "execution_count": 29,
   "id": "44a3119a-c067-49c8-abc4-5157e8e98ca5",
   "metadata": {
    "execution": {
     "iopub.execute_input": "2023-04-11T15:45:32.995873Z",
     "iopub.status.busy": "2023-04-11T15:45:32.995059Z",
     "iopub.status.idle": "2023-04-11T15:45:33.376423Z",
     "shell.execute_reply": "2023-04-11T15:45:33.375499Z",
     "shell.execute_reply.started": "2023-04-11T15:45:32.995833Z"
    },
    "tags": []
   },
   "outputs": [
    {
     "data": {
      "application/vnd.jupyter.widget-view+json": {
       "model_id": "97996a1b4180425b8a8e6a0c49b0d885",
       "version_major": 2,
       "version_minor": 0
      },
      "text/plain": [
       "VBox()"
      ]
     },
     "metadata": {},
     "output_type": "display_data"
    },
    {
     "data": {
      "application/vnd.jupyter.widget-view+json": {
       "model_id": "",
       "version_major": 2,
       "version_minor": 0
      },
      "text/plain": [
       "FloatProgress(value=0.0, bar_style='info', description='Progress:', layout=Layout(height='25px', width='50%'),…"
      ]
     },
     "metadata": {},
     "output_type": "display_data"
    }
   ],
   "source": [
    "# creating a temporary df and selecting required columns & making sure records are distinct\n",
    "location = df.select('atm_location', 'atm_streetname', 'atm_street_number', 'atm_zipcode', 'atm_lat', 'atm_lon').distinct()"
   ]
  },
  {
   "cell_type": "code",
   "execution_count": 30,
   "id": "5e6ea189-a963-41bc-a4b0-c92aea08eb22",
   "metadata": {
    "execution": {
     "iopub.execute_input": "2023-04-11T15:45:33.378605Z",
     "iopub.status.busy": "2023-04-11T15:45:33.378054Z",
     "iopub.status.idle": "2023-04-11T15:45:33.686578Z",
     "shell.execute_reply": "2023-04-11T15:45:33.685394Z",
     "shell.execute_reply.started": "2023-04-11T15:45:33.378541Z"
    },
    "tags": []
   },
   "outputs": [
    {
     "data": {
      "application/vnd.jupyter.widget-view+json": {
       "model_id": "1cfbc36696e0463ea58fc5baa39c99ec",
       "version_major": 2,
       "version_minor": 0
      },
      "text/plain": [
       "VBox()"
      ]
     },
     "metadata": {},
     "output_type": "display_data"
    },
    {
     "data": {
      "application/vnd.jupyter.widget-view+json": {
       "model_id": "",
       "version_major": 2,
       "version_minor": 0
      },
      "text/plain": [
       "FloatProgress(value=0.0, bar_style='info', description='Progress:', layout=Layout(height='25px', width='50%'),…"
      ]
     },
     "metadata": {},
     "output_type": "display_data"
    }
   ],
   "source": [
    "from pyspark.sql.functions import *"
   ]
  },
  {
   "cell_type": "code",
   "execution_count": 31,
   "id": "eccc4f49-765d-4b53-91b3-dd0c15eef6d4",
   "metadata": {
    "execution": {
     "iopub.execute_input": "2023-04-11T15:45:33.688853Z",
     "iopub.status.busy": "2023-04-11T15:45:33.688235Z",
     "iopub.status.idle": "2023-04-11T15:45:47.508520Z",
     "shell.execute_reply": "2023-04-11T15:45:47.507400Z",
     "shell.execute_reply.started": "2023-04-11T15:45:33.688813Z"
    },
    "tags": []
   },
   "outputs": [
    {
     "data": {
      "application/vnd.jupyter.widget-view+json": {
       "model_id": "cbfc47c7050948d3a4a08a945b3741c7",
       "version_major": 2,
       "version_minor": 0
      },
      "text/plain": [
       "VBox()"
      ]
     },
     "metadata": {},
     "output_type": "display_data"
    },
    {
     "data": {
      "application/vnd.jupyter.widget-view+json": {
       "model_id": "",
       "version_major": 2,
       "version_minor": 0
      },
      "text/plain": [
       "FloatProgress(value=0.0, bar_style='info', description='Progress:', layout=Layout(height='25px', width='50%'),…"
      ]
     },
     "metadata": {},
     "output_type": "display_data"
    },
    {
     "name": "stdout",
     "output_type": "stream",
     "text": [
      "+----------------+-------------------+-----------------+-----------+-------+-------+-----------+\n",
      "|    atm_location|     atm_streetname|atm_street_number|atm_zipcode|atm_lat|atm_lon|location_id|\n",
      "+----------------+-------------------+-----------------+-----------+-------+-------+-----------+\n",
      "|         Kolding|           Vejlevej|              135|       6000| 55.505|  9.457|          0|\n",
      "|  Skelagervej 15|        Skelagervej|               15|       9000| 57.023|  9.891|          1|\n",
      "|Intern HolbÃƒÂ¦k|        Slotsvolden|                7|       4300| 55.718| 11.704|          2|\n",
      "|          Odense|       FÃƒÂ¦lledvej|                3|       5000| 55.394|  10.37|          3|\n",
      "|           Ikast|RÃƒÂ¥dhusstrÃƒÂ¦det|               12|       7430| 56.139|  9.154|          4|\n",
      "+----------------+-------------------+-----------------+-----------+-------+-------+-----------+\n",
      "only showing top 5 rows"
     ]
    }
   ],
   "source": [
    "# creating the primary key column\n",
    "df_temp = location.rdd.zipWithIndex().toDF()\n",
    "dim_location = df_temp.select(col(\"_1.*\"),col(\"_2\").alias('location_id'))\n",
    "dim_location.show(5)"
   ]
  },
  {
   "cell_type": "code",
   "execution_count": 32,
   "id": "176827c2-0cb1-4121-b512-d99057ed18e2",
   "metadata": {
    "execution": {
     "iopub.execute_input": "2023-04-11T15:45:47.511416Z",
     "iopub.status.busy": "2023-04-11T15:45:47.510338Z",
     "iopub.status.idle": "2023-04-11T15:45:47.825324Z",
     "shell.execute_reply": "2023-04-11T15:45:47.821830Z",
     "shell.execute_reply.started": "2023-04-11T15:45:47.511376Z"
    },
    "tags": []
   },
   "outputs": [
    {
     "data": {
      "application/vnd.jupyter.widget-view+json": {
       "model_id": "99a06ffa583e4382ba33801777a57b73",
       "version_major": 2,
       "version_minor": 0
      },
      "text/plain": [
       "VBox()"
      ]
     },
     "metadata": {},
     "output_type": "display_data"
    },
    {
     "data": {
      "application/vnd.jupyter.widget-view+json": {
       "model_id": "",
       "version_major": 2,
       "version_minor": 0
      },
      "text/plain": [
       "FloatProgress(value=0.0, bar_style='info', description='Progress:', layout=Layout(height='25px', width='50%'),…"
      ]
     },
     "metadata": {},
     "output_type": "display_data"
    }
   ],
   "source": [
    "# renaming the colums as per requirement\n",
    "DIM_LOCATION = dim_location.withColumnRenamed('atm_location','location').withColumnRenamed('atm_streetname','streetname').withColumnRenamed('atm_street_number','street_number').withColumnRenamed('atm_zipcode','zipcode').withColumnRenamed('atm_lat','lat').withColumnRenamed('atm_lon','lon')"
   ]
  },
  {
   "cell_type": "code",
   "execution_count": 33,
   "id": "a7b47fd6-f0a4-455d-933f-c3055975a9c9",
   "metadata": {
    "execution": {
     "iopub.execute_input": "2023-04-11T15:45:47.875490Z",
     "iopub.status.busy": "2023-04-11T15:45:47.871534Z",
     "iopub.status.idle": "2023-04-11T15:45:48.226258Z",
     "shell.execute_reply": "2023-04-11T15:45:48.225179Z",
     "shell.execute_reply.started": "2023-04-11T15:45:47.875444Z"
    },
    "tags": []
   },
   "outputs": [
    {
     "data": {
      "application/vnd.jupyter.widget-view+json": {
       "model_id": "5ad804d9c49246a39f337a43d26a1459",
       "version_major": 2,
       "version_minor": 0
      },
      "text/plain": [
       "VBox()"
      ]
     },
     "metadata": {},
     "output_type": "display_data"
    },
    {
     "data": {
      "application/vnd.jupyter.widget-view+json": {
       "model_id": "",
       "version_major": 2,
       "version_minor": 0
      },
      "text/plain": [
       "FloatProgress(value=0.0, bar_style='info', description='Progress:', layout=Layout(height='25px', width='50%'),…"
      ]
     },
     "metadata": {},
     "output_type": "display_data"
    }
   ],
   "source": [
    "# rearranging the columns according to the target model\n",
    "DIM_LOCATION = DIM_LOCATION.select('location_id', 'location', 'streetname', 'street_number', 'zipcode', 'lat', 'lon')"
   ]
  },
  {
   "cell_type": "code",
   "execution_count": 34,
   "id": "abd759af-e428-428a-9a65-6f3ca92f0ee1",
   "metadata": {
    "execution": {
     "iopub.execute_input": "2023-04-11T15:45:48.237449Z",
     "iopub.status.busy": "2023-04-11T15:45:48.236724Z",
     "iopub.status.idle": "2023-04-11T15:45:48.589234Z",
     "shell.execute_reply": "2023-04-11T15:45:48.587971Z",
     "shell.execute_reply.started": "2023-04-11T15:45:48.237404Z"
    },
    "tags": []
   },
   "outputs": [
    {
     "data": {
      "application/vnd.jupyter.widget-view+json": {
       "model_id": "8d0e831dde8d4dfa8321fe174c1efd45",
       "version_major": 2,
       "version_minor": 0
      },
      "text/plain": [
       "VBox()"
      ]
     },
     "metadata": {},
     "output_type": "display_data"
    },
    {
     "data": {
      "application/vnd.jupyter.widget-view+json": {
       "model_id": "",
       "version_major": 2,
       "version_minor": 0
      },
      "text/plain": [
       "FloatProgress(value=0.0, bar_style='info', description='Progress:', layout=Layout(height='25px', width='50%'),…"
      ]
     },
     "metadata": {},
     "output_type": "display_data"
    },
    {
     "name": "stdout",
     "output_type": "stream",
     "text": [
      "['location_id', 'location', 'streetname', 'street_number', 'zipcode', 'lat', 'lon']"
     ]
    }
   ],
   "source": [
    "# checking that all required columns are present and named correctly\n",
    "DIM_LOCATION.columns"
   ]
  },
  {
   "cell_type": "code",
   "execution_count": 35,
   "id": "144e50f6-a115-4c07-887b-79367480e4ed",
   "metadata": {
    "execution": {
     "iopub.execute_input": "2023-04-11T15:45:48.591513Z",
     "iopub.status.busy": "2023-04-11T15:45:48.590540Z",
     "iopub.status.idle": "2023-04-11T15:45:50.127626Z",
     "shell.execute_reply": "2023-04-11T15:45:50.126606Z",
     "shell.execute_reply.started": "2023-04-11T15:45:48.591469Z"
    },
    "tags": []
   },
   "outputs": [
    {
     "data": {
      "application/vnd.jupyter.widget-view+json": {
       "model_id": "8327994de92840409863b0a54e1d38e3",
       "version_major": 2,
       "version_minor": 0
      },
      "text/plain": [
       "VBox()"
      ]
     },
     "metadata": {},
     "output_type": "display_data"
    },
    {
     "data": {
      "application/vnd.jupyter.widget-view+json": {
       "model_id": "",
       "version_major": 2,
       "version_minor": 0
      },
      "text/plain": [
       "FloatProgress(value=0.0, bar_style='info', description='Progress:', layout=Layout(height='25px', width='50%'),…"
      ]
     },
     "metadata": {},
     "output_type": "display_data"
    },
    {
     "name": "stdout",
     "output_type": "stream",
     "text": [
      "109"
     ]
    }
   ],
   "source": [
    "# validating the count of the dataframe\n",
    "DIM_LOCATION.select('*').count()"
   ]
  },
  {
   "cell_type": "code",
   "execution_count": 36,
   "id": "42b13a9b-dd12-4d45-aeb0-99f19241475c",
   "metadata": {
    "execution": {
     "iopub.execute_input": "2023-04-11T15:45:50.129108Z",
     "iopub.status.busy": "2023-04-11T15:45:50.128782Z",
     "iopub.status.idle": "2023-04-11T15:45:50.377361Z",
     "shell.execute_reply": "2023-04-11T15:45:50.375311Z",
     "shell.execute_reply.started": "2023-04-11T15:45:50.129070Z"
    },
    "tags": []
   },
   "outputs": [
    {
     "data": {
      "application/vnd.jupyter.widget-view+json": {
       "model_id": "4f683155da6b405591edc88e525605d8",
       "version_major": 2,
       "version_minor": 0
      },
      "text/plain": [
       "VBox()"
      ]
     },
     "metadata": {},
     "output_type": "display_data"
    },
    {
     "data": {
      "application/vnd.jupyter.widget-view+json": {
       "model_id": "",
       "version_major": 2,
       "version_minor": 0
      },
      "text/plain": [
       "FloatProgress(value=0.0, bar_style='info', description='Progress:', layout=Layout(height='25px', width='50%'),…"
      ]
     },
     "metadata": {},
     "output_type": "display_data"
    }
   ],
   "source": [
    "#### Creating a dataframe for ATM Dimension according to Target Dimension Model"
   ]
  },
  {
   "cell_type": "code",
   "execution_count": 37,
   "id": "faefdaa0-580b-40f7-a425-0a583d312be2",
   "metadata": {
    "execution": {
     "iopub.execute_input": "2023-04-11T15:45:50.379835Z",
     "iopub.status.busy": "2023-04-11T15:45:50.378952Z",
     "iopub.status.idle": "2023-04-11T15:45:50.691719Z",
     "shell.execute_reply": "2023-04-11T15:45:50.690489Z",
     "shell.execute_reply.started": "2023-04-11T15:45:50.379790Z"
    },
    "tags": []
   },
   "outputs": [
    {
     "data": {
      "application/vnd.jupyter.widget-view+json": {
       "model_id": "297487407cc641e9b70a2603f5d7328c",
       "version_major": 2,
       "version_minor": 0
      },
      "text/plain": [
       "VBox()"
      ]
     },
     "metadata": {},
     "output_type": "display_data"
    },
    {
     "data": {
      "application/vnd.jupyter.widget-view+json": {
       "model_id": "",
       "version_major": 2,
       "version_minor": 0
      },
      "text/plain": [
       "FloatProgress(value=0.0, bar_style='info', description='Progress:', layout=Layout(height='25px', width='50%'),…"
      ]
     },
     "metadata": {},
     "output_type": "display_data"
    }
   ],
   "source": [
    "# creating a temporary df and selecting required columns\n",
    "atm = df.select('atm_id', 'atm_manufacturer', 'atm_lat', 'atm_lon')"
   ]
  },
  {
   "cell_type": "code",
   "execution_count": 38,
   "id": "f95cf219-30b8-4c6d-86a0-5ab5c2686637",
   "metadata": {
    "execution": {
     "iopub.execute_input": "2023-04-11T15:45:50.693900Z",
     "iopub.status.busy": "2023-04-11T15:45:50.693191Z",
     "iopub.status.idle": "2023-04-11T15:45:51.076819Z",
     "shell.execute_reply": "2023-04-11T15:45:51.075863Z",
     "shell.execute_reply.started": "2023-04-11T15:45:50.693857Z"
    },
    "tags": []
   },
   "outputs": [
    {
     "data": {
      "application/vnd.jupyter.widget-view+json": {
       "model_id": "46c5a61b3888498e8e941f02010db97b",
       "version_major": 2,
       "version_minor": 0
      },
      "text/plain": [
       "VBox()"
      ]
     },
     "metadata": {},
     "output_type": "display_data"
    },
    {
     "data": {
      "application/vnd.jupyter.widget-view+json": {
       "model_id": "",
       "version_major": 2,
       "version_minor": 0
      },
      "text/plain": [
       "FloatProgress(value=0.0, bar_style='info', description='Progress:', layout=Layout(height='25px', width='50%'),…"
      ]
     },
     "metadata": {},
     "output_type": "display_data"
    }
   ],
   "source": [
    "# renaming the column atm_id to atm_number as per requirement\n",
    "atm = atm.withColumnRenamed('atm_id', 'atm_number')"
   ]
  },
  {
   "cell_type": "code",
   "execution_count": 39,
   "id": "ffb22fb6-aa70-4dd9-a934-a25605f0feb8",
   "metadata": {
    "execution": {
     "iopub.execute_input": "2023-04-11T15:45:51.078824Z",
     "iopub.status.busy": "2023-04-11T15:45:51.078455Z",
     "iopub.status.idle": "2023-04-11T15:45:51.377800Z",
     "shell.execute_reply": "2023-04-11T15:45:51.376762Z",
     "shell.execute_reply.started": "2023-04-11T15:45:51.078785Z"
    },
    "tags": []
   },
   "outputs": [
    {
     "data": {
      "application/vnd.jupyter.widget-view+json": {
       "model_id": "9f299ee294fe4af18ebcc85a9934f5dd",
       "version_major": 2,
       "version_minor": 0
      },
      "text/plain": [
       "VBox()"
      ]
     },
     "metadata": {},
     "output_type": "display_data"
    },
    {
     "data": {
      "application/vnd.jupyter.widget-view+json": {
       "model_id": "",
       "version_major": 2,
       "version_minor": 0
      },
      "text/plain": [
       "FloatProgress(value=0.0, bar_style='info', description='Progress:', layout=Layout(height='25px', width='50%'),…"
      ]
     },
     "metadata": {},
     "output_type": "display_data"
    }
   ],
   "source": [
    "# joining the dim_location and atm dataframes\n",
    "atm = atm.join(dim_location, on = ['atm_lat', 'atm_lon'], how = \"left\")"
   ]
  },
  {
   "cell_type": "code",
   "execution_count": 40,
   "id": "82a9bac1-5a47-47d3-91e3-771c8f31a091",
   "metadata": {
    "execution": {
     "iopub.execute_input": "2023-04-11T15:45:51.379802Z",
     "iopub.status.busy": "2023-04-11T15:45:51.379179Z",
     "iopub.status.idle": "2023-04-11T15:45:51.687003Z",
     "shell.execute_reply": "2023-04-11T15:45:51.685692Z",
     "shell.execute_reply.started": "2023-04-11T15:45:51.379759Z"
    },
    "tags": []
   },
   "outputs": [
    {
     "data": {
      "application/vnd.jupyter.widget-view+json": {
       "model_id": "deb91109287f4f0db533b78cac038080",
       "version_major": 2,
       "version_minor": 0
      },
      "text/plain": [
       "VBox()"
      ]
     },
     "metadata": {},
     "output_type": "display_data"
    },
    {
     "data": {
      "application/vnd.jupyter.widget-view+json": {
       "model_id": "",
       "version_major": 2,
       "version_minor": 0
      },
      "text/plain": [
       "FloatProgress(value=0.0, bar_style='info', description='Progress:', layout=Layout(height='25px', width='50%'),…"
      ]
     },
     "metadata": {},
     "output_type": "display_data"
    },
    {
     "name": "stdout",
     "output_type": "stream",
     "text": [
      "['atm_lat', 'atm_lon', 'atm_number', 'atm_manufacturer', 'atm_location', 'atm_streetname', 'atm_street_number', 'atm_zipcode', 'location_id']"
     ]
    }
   ],
   "source": [
    "# checking to columns in the joined df\n",
    "atm.columns"
   ]
  },
  {
   "cell_type": "code",
   "execution_count": 41,
   "id": "931367e9-204b-40b8-aba2-dd2da2455900",
   "metadata": {
    "execution": {
     "iopub.execute_input": "2023-04-11T15:45:51.688444Z",
     "iopub.status.busy": "2023-04-11T15:45:51.688109Z",
     "iopub.status.idle": "2023-04-11T15:45:51.985148Z",
     "shell.execute_reply": "2023-04-11T15:45:51.984126Z",
     "shell.execute_reply.started": "2023-04-11T15:45:51.688408Z"
    },
    "tags": []
   },
   "outputs": [
    {
     "data": {
      "application/vnd.jupyter.widget-view+json": {
       "model_id": "df9f1a75928a4b7cb7e3e9af3219423a",
       "version_major": 2,
       "version_minor": 0
      },
      "text/plain": [
       "VBox()"
      ]
     },
     "metadata": {},
     "output_type": "display_data"
    },
    {
     "data": {
      "application/vnd.jupyter.widget-view+json": {
       "model_id": "",
       "version_major": 2,
       "version_minor": 0
      },
      "text/plain": [
       "FloatProgress(value=0.0, bar_style='info', description='Progress:', layout=Layout(height='25px', width='50%'),…"
      ]
     },
     "metadata": {},
     "output_type": "display_data"
    }
   ],
   "source": [
    "# selecting the required columns and making sure records are distinct\n",
    "atm = atm.select('atm_number', 'atm_manufacturer', 'location_id').distinct()"
   ]
  },
  {
   "cell_type": "code",
   "execution_count": 42,
   "id": "22d9e683-8d1f-426e-b13c-ea6319d4a5e3",
   "metadata": {
    "execution": {
     "iopub.execute_input": "2023-04-11T15:45:51.987282Z",
     "iopub.status.busy": "2023-04-11T15:45:51.986621Z",
     "iopub.status.idle": "2023-04-11T15:45:52.295354Z",
     "shell.execute_reply": "2023-04-11T15:45:52.294172Z",
     "shell.execute_reply.started": "2023-04-11T15:45:51.987239Z"
    },
    "tags": []
   },
   "outputs": [
    {
     "data": {
      "application/vnd.jupyter.widget-view+json": {
       "model_id": "1ca27d1a87494eb49a0371e2a6e41e1a",
       "version_major": 2,
       "version_minor": 0
      },
      "text/plain": [
       "VBox()"
      ]
     },
     "metadata": {},
     "output_type": "display_data"
    },
    {
     "data": {
      "application/vnd.jupyter.widget-view+json": {
       "model_id": "",
       "version_major": 2,
       "version_minor": 0
      },
      "text/plain": [
       "FloatProgress(value=0.0, bar_style='info', description='Progress:', layout=Layout(height='25px', width='50%'),…"
      ]
     },
     "metadata": {},
     "output_type": "display_data"
    }
   ],
   "source": [
    "# renaming the colums as per requirement\n",
    "atm = atm.withColumnRenamed('location_id', 'atm_location_id')"
   ]
  },
  {
   "cell_type": "code",
   "execution_count": 43,
   "id": "7d6a0ad7-3468-4b2d-8b06-97d0110e702b",
   "metadata": {
    "execution": {
     "iopub.execute_input": "2023-04-11T15:45:52.360707Z",
     "iopub.status.busy": "2023-04-11T15:45:52.297097Z",
     "iopub.status.idle": "2023-04-11T15:45:52.605627Z",
     "shell.execute_reply": "2023-04-11T15:45:52.604988Z",
     "shell.execute_reply.started": "2023-04-11T15:45:52.360646Z"
    },
    "tags": []
   },
   "outputs": [
    {
     "data": {
      "application/vnd.jupyter.widget-view+json": {
       "model_id": "bdf9ba23c007410dabc200e0251625f7",
       "version_major": 2,
       "version_minor": 0
      },
      "text/plain": [
       "VBox()"
      ]
     },
     "metadata": {},
     "output_type": "display_data"
    },
    {
     "data": {
      "application/vnd.jupyter.widget-view+json": {
       "model_id": "",
       "version_major": 2,
       "version_minor": 0
      },
      "text/plain": [
       "FloatProgress(value=0.0, bar_style='info', description='Progress:', layout=Layout(height='25px', width='50%'),…"
      ]
     },
     "metadata": {},
     "output_type": "display_data"
    },
    {
     "name": "stdout",
     "output_type": "stream",
     "text": [
      "['atm_number', 'atm_manufacturer', 'atm_location_id']"
     ]
    }
   ],
   "source": [
    "# viewing changes in columns\n",
    "atm.columns"
   ]
  },
  {
   "cell_type": "code",
   "execution_count": 44,
   "id": "8aa71b33-6d1a-4efd-8a01-6a3bb980d764",
   "metadata": {
    "execution": {
     "iopub.execute_input": "2023-04-11T15:45:52.660463Z",
     "iopub.status.busy": "2023-04-11T15:45:52.606422Z",
     "iopub.status.idle": "2023-04-11T15:46:04.445719Z",
     "shell.execute_reply": "2023-04-11T15:46:04.440509Z",
     "shell.execute_reply.started": "2023-04-11T15:45:52.660404Z"
    },
    "tags": []
   },
   "outputs": [
    {
     "data": {
      "application/vnd.jupyter.widget-view+json": {
       "model_id": "5e9cd06dd7d14bb499c07520dd625b44",
       "version_major": 2,
       "version_minor": 0
      },
      "text/plain": [
       "VBox()"
      ]
     },
     "metadata": {},
     "output_type": "display_data"
    },
    {
     "data": {
      "application/vnd.jupyter.widget-view+json": {
       "model_id": "",
       "version_major": 2,
       "version_minor": 0
      },
      "text/plain": [
       "FloatProgress(value=0.0, bar_style='info', description='Progress:', layout=Layout(height='25px', width='50%'),…"
      ]
     },
     "metadata": {},
     "output_type": "display_data"
    },
    {
     "name": "stdout",
     "output_type": "stream",
     "text": [
      "+----------+----------------+---------------+------+\n",
      "|atm_number|atm_manufacturer|atm_location_id|atm_id|\n",
      "+----------+----------------+---------------+------+\n",
      "|        53|             NCR|             28|     0|\n",
      "|        30|             NCR|             57|     1|\n",
      "|        36|             NCR|             61|     2|\n",
      "|        66|             NCR|             20|     3|\n",
      "|        40| Diebold Nixdorf|             86|     4|\n",
      "+----------+----------------+---------------+------+\n",
      "only showing top 5 rows"
     ]
    }
   ],
   "source": [
    "# creating the primary key column\n",
    "df_temp = atm.rdd.zipWithIndex().toDF()\n",
    "dim_atm = df_temp.select(col(\"_1.*\"),col(\"_2\").alias('atm_id'))\n",
    "dim_atm.show(5)"
   ]
  },
  {
   "cell_type": "code",
   "execution_count": 45,
   "id": "1ca24e60-50c8-4e36-bceb-bc3c7b503b2a",
   "metadata": {
    "execution": {
     "iopub.execute_input": "2023-04-11T15:46:04.451545Z",
     "iopub.status.busy": "2023-04-11T15:46:04.450492Z",
     "iopub.status.idle": "2023-04-11T15:46:04.831718Z",
     "shell.execute_reply": "2023-04-11T15:46:04.829095Z",
     "shell.execute_reply.started": "2023-04-11T15:46:04.451492Z"
    },
    "tags": []
   },
   "outputs": [
    {
     "data": {
      "application/vnd.jupyter.widget-view+json": {
       "model_id": "bc0027f576824b44b425f2b1b412f2ec",
       "version_major": 2,
       "version_minor": 0
      },
      "text/plain": [
       "VBox()"
      ]
     },
     "metadata": {},
     "output_type": "display_data"
    },
    {
     "data": {
      "application/vnd.jupyter.widget-view+json": {
       "model_id": "",
       "version_major": 2,
       "version_minor": 0
      },
      "text/plain": [
       "FloatProgress(value=0.0, bar_style='info', description='Progress:', layout=Layout(height='25px', width='50%'),…"
      ]
     },
     "metadata": {},
     "output_type": "display_data"
    }
   ],
   "source": [
    "# rearranging the columns according to the target model\n",
    "DIM_ATM = dim_atm.select('atm_id', 'atm_number', 'atm_manufacturer', 'atm_location_id')"
   ]
  },
  {
   "cell_type": "code",
   "execution_count": 46,
   "id": "67a48b3c-4cdc-4fda-9907-004f204bd4c2",
   "metadata": {
    "execution": {
     "iopub.execute_input": "2023-04-11T15:46:04.862568Z",
     "iopub.status.busy": "2023-04-11T15:46:04.861484Z",
     "iopub.status.idle": "2023-04-11T15:46:05.262708Z",
     "shell.execute_reply": "2023-04-11T15:46:05.261044Z",
     "shell.execute_reply.started": "2023-04-11T15:46:04.862516Z"
    },
    "tags": []
   },
   "outputs": [
    {
     "data": {
      "application/vnd.jupyter.widget-view+json": {
       "model_id": "1eda9fe4878941398c9d82a63696fd07",
       "version_major": 2,
       "version_minor": 0
      },
      "text/plain": [
       "VBox()"
      ]
     },
     "metadata": {},
     "output_type": "display_data"
    },
    {
     "data": {
      "application/vnd.jupyter.widget-view+json": {
       "model_id": "",
       "version_major": 2,
       "version_minor": 0
      },
      "text/plain": [
       "FloatProgress(value=0.0, bar_style='info', description='Progress:', layout=Layout(height='25px', width='50%'),…"
      ]
     },
     "metadata": {},
     "output_type": "display_data"
    },
    {
     "name": "stdout",
     "output_type": "stream",
     "text": [
      "['atm_id', 'atm_number', 'atm_manufacturer', 'atm_location_id']"
     ]
    }
   ],
   "source": [
    "# checking that all required columns are present and named correctly\n",
    "DIM_ATM.columns"
   ]
  },
  {
   "cell_type": "code",
   "execution_count": 47,
   "id": "a835f05b-afbd-4265-b19a-afd12a04ae55",
   "metadata": {
    "execution": {
     "iopub.execute_input": "2023-04-11T15:46:05.264769Z",
     "iopub.status.busy": "2023-04-11T15:46:05.264137Z",
     "iopub.status.idle": "2023-04-11T15:46:06.369775Z",
     "shell.execute_reply": "2023-04-11T15:46:06.368634Z",
     "shell.execute_reply.started": "2023-04-11T15:46:05.264721Z"
    },
    "tags": []
   },
   "outputs": [
    {
     "data": {
      "application/vnd.jupyter.widget-view+json": {
       "model_id": "27722650a2c749dd99742997c2446caa",
       "version_major": 2,
       "version_minor": 0
      },
      "text/plain": [
       "VBox()"
      ]
     },
     "metadata": {},
     "output_type": "display_data"
    },
    {
     "data": {
      "application/vnd.jupyter.widget-view+json": {
       "model_id": "",
       "version_major": 2,
       "version_minor": 0
      },
      "text/plain": [
       "FloatProgress(value=0.0, bar_style='info', description='Progress:', layout=Layout(height='25px', width='50%'),…"
      ]
     },
     "metadata": {},
     "output_type": "display_data"
    },
    {
     "name": "stdout",
     "output_type": "stream",
     "text": [
      "156"
     ]
    }
   ],
   "source": [
    "# validating the count of the dataframe\n",
    "DIM_ATM.select('*').count()"
   ]
  },
  {
   "cell_type": "code",
   "execution_count": 48,
   "id": "11e1ca0c-5885-458c-be0e-75e93ab27629",
   "metadata": {
    "execution": {
     "iopub.execute_input": "2023-04-11T15:46:06.375721Z",
     "iopub.status.busy": "2023-04-11T15:46:06.374815Z",
     "iopub.status.idle": "2023-04-11T15:46:06.761689Z",
     "shell.execute_reply": "2023-04-11T15:46:06.699631Z",
     "shell.execute_reply.started": "2023-04-11T15:46:06.375672Z"
    },
    "tags": []
   },
   "outputs": [
    {
     "data": {
      "application/vnd.jupyter.widget-view+json": {
       "model_id": "19fdee0276734e68b6ee6ef6f90b1228",
       "version_major": 2,
       "version_minor": 0
      },
      "text/plain": [
       "VBox()"
      ]
     },
     "metadata": {},
     "output_type": "display_data"
    },
    {
     "data": {
      "application/vnd.jupyter.widget-view+json": {
       "model_id": "",
       "version_major": 2,
       "version_minor": 0
      },
      "text/plain": [
       "FloatProgress(value=0.0, bar_style='info', description='Progress:', layout=Layout(height='25px', width='50%'),…"
      ]
     },
     "metadata": {},
     "output_type": "display_data"
    }
   ],
   "source": [
    "#### Creating a dataframe for Date Dimension according to Target Dimension Model"
   ]
  },
  {
   "cell_type": "code",
   "execution_count": 49,
   "id": "9098e3b2-34c7-4597-8a6a-c455255a77ef",
   "metadata": {
    "execution": {
     "iopub.execute_input": "2023-04-11T15:46:06.764410Z",
     "iopub.status.busy": "2023-04-11T15:46:06.763352Z",
     "iopub.status.idle": "2023-04-11T15:46:07.110218Z",
     "shell.execute_reply": "2023-04-11T15:46:07.104194Z",
     "shell.execute_reply.started": "2023-04-11T15:46:06.764364Z"
    },
    "tags": []
   },
   "outputs": [
    {
     "data": {
      "application/vnd.jupyter.widget-view+json": {
       "model_id": "9881d9050ef54f75a7adb9a771efae52",
       "version_major": 2,
       "version_minor": 0
      },
      "text/plain": [
       "VBox()"
      ]
     },
     "metadata": {},
     "output_type": "display_data"
    },
    {
     "data": {
      "application/vnd.jupyter.widget-view+json": {
       "model_id": "",
       "version_major": 2,
       "version_minor": 0
      },
      "text/plain": [
       "FloatProgress(value=0.0, bar_style='info', description='Progress:', layout=Layout(height='25px', width='50%'),…"
      ]
     },
     "metadata": {},
     "output_type": "display_data"
    }
   ],
   "source": [
    "# creating a temporary df and selecting required columns\n",
    "date = df.select('year', 'month', 'day', 'hour', 'weekday')"
   ]
  },
  {
   "cell_type": "code",
   "execution_count": 50,
   "id": "5d2a9ed7-78e1-42f6-afe2-9ca224b394bc",
   "metadata": {
    "execution": {
     "iopub.execute_input": "2023-04-11T15:46:07.119302Z",
     "iopub.status.busy": "2023-04-11T15:46:07.113655Z",
     "iopub.status.idle": "2023-04-11T15:46:07.513782Z",
     "shell.execute_reply": "2023-04-11T15:46:07.506328Z",
     "shell.execute_reply.started": "2023-04-11T15:46:07.119253Z"
    },
    "tags": []
   },
   "outputs": [
    {
     "data": {
      "application/vnd.jupyter.widget-view+json": {
       "model_id": "7dd2ec05d5df4369bce1f57129755234",
       "version_major": 2,
       "version_minor": 0
      },
      "text/plain": [
       "VBox()"
      ]
     },
     "metadata": {},
     "output_type": "display_data"
    },
    {
     "data": {
      "application/vnd.jupyter.widget-view+json": {
       "model_id": "",
       "version_major": 2,
       "version_minor": 0
      },
      "text/plain": [
       "FloatProgress(value=0.0, bar_style='info', description='Progress:', layout=Layout(height='25px', width='50%'),…"
      ]
     },
     "metadata": {},
     "output_type": "display_data"
    }
   ],
   "source": [
    "date = date.withColumn('full_date', concat_ws('-', date.year, date.month, date.day))"
   ]
  },
  {
   "cell_type": "code",
   "execution_count": 51,
   "id": "ead62665-4530-415b-8e5d-84531055eec2",
   "metadata": {
    "execution": {
     "iopub.execute_input": "2023-04-11T15:46:07.517970Z",
     "iopub.status.busy": "2023-04-11T15:46:07.517313Z",
     "iopub.status.idle": "2023-04-11T15:46:08.132185Z",
     "shell.execute_reply": "2023-04-11T15:46:08.131145Z",
     "shell.execute_reply.started": "2023-04-11T15:46:07.517898Z"
    },
    "tags": []
   },
   "outputs": [
    {
     "data": {
      "application/vnd.jupyter.widget-view+json": {
       "model_id": "876fb533dcb04d5e8931f86ef140eb10",
       "version_major": 2,
       "version_minor": 0
      },
      "text/plain": [
       "VBox()"
      ]
     },
     "metadata": {},
     "output_type": "display_data"
    },
    {
     "data": {
      "application/vnd.jupyter.widget-view+json": {
       "model_id": "",
       "version_major": 2,
       "version_minor": 0
      },
      "text/plain": [
       "FloatProgress(value=0.0, bar_style='info', description='Progress:', layout=Layout(height='25px', width='50%'),…"
      ]
     },
     "metadata": {},
     "output_type": "display_data"
    }
   ],
   "source": [
    "date = date.withColumn('full_time', concat_ws(':', date.hour, lit('00'), lit('00')))"
   ]
  },
  {
   "cell_type": "code",
   "execution_count": 52,
   "id": "85ed74d4-6b2f-41cf-a023-d6a247b2d89e",
   "metadata": {
    "execution": {
     "iopub.execute_input": "2023-04-11T15:46:08.133682Z",
     "iopub.status.busy": "2023-04-11T15:46:08.133414Z",
     "iopub.status.idle": "2023-04-11T15:46:08.379870Z",
     "shell.execute_reply": "2023-04-11T15:46:08.378864Z",
     "shell.execute_reply.started": "2023-04-11T15:46:08.133656Z"
    },
    "tags": []
   },
   "outputs": [
    {
     "data": {
      "application/vnd.jupyter.widget-view+json": {
       "model_id": "08dcb1392c444d378e76e5f6fbc5182c",
       "version_major": 2,
       "version_minor": 0
      },
      "text/plain": [
       "VBox()"
      ]
     },
     "metadata": {},
     "output_type": "display_data"
    },
    {
     "data": {
      "application/vnd.jupyter.widget-view+json": {
       "model_id": "",
       "version_major": 2,
       "version_minor": 0
      },
      "text/plain": [
       "FloatProgress(value=0.0, bar_style='info', description='Progress:', layout=Layout(height='25px', width='50%'),…"
      ]
     },
     "metadata": {},
     "output_type": "display_data"
    }
   ],
   "source": [
    "date = date.withColumn('full_date_time', concat_ws(' ', date.full_date, date.full_time))"
   ]
  },
  {
   "cell_type": "code",
   "execution_count": 53,
   "id": "c141c445-7bca-4b2e-8c54-a703a3b12f65",
   "metadata": {
    "execution": {
     "iopub.execute_input": "2023-04-11T15:46:08.382057Z",
     "iopub.status.busy": "2023-04-11T15:46:08.381689Z",
     "iopub.status.idle": "2023-04-11T15:46:08.912016Z",
     "shell.execute_reply": "2023-04-11T15:46:08.910662Z",
     "shell.execute_reply.started": "2023-04-11T15:46:08.382019Z"
    },
    "tags": []
   },
   "outputs": [
    {
     "data": {
      "application/vnd.jupyter.widget-view+json": {
       "model_id": "1f98173ad45841baaebf87c8c1af7e5e",
       "version_major": 2,
       "version_minor": 0
      },
      "text/plain": [
       "VBox()"
      ]
     },
     "metadata": {},
     "output_type": "display_data"
    },
    {
     "data": {
      "application/vnd.jupyter.widget-view+json": {
       "model_id": "",
       "version_major": 2,
       "version_minor": 0
      },
      "text/plain": [
       "FloatProgress(value=0.0, bar_style='info', description='Progress:', layout=Layout(height='25px', width='50%'),…"
      ]
     },
     "metadata": {},
     "output_type": "display_data"
    }
   ],
   "source": [
    "pattern = 'yyyy-MMM-dd HH:mm:ss'\n",
    "date = date.withColumn('full_date_time', unix_timestamp(date.full_date_time, pattern).cast('timestamp'))"
   ]
  },
  {
   "cell_type": "code",
   "execution_count": 54,
   "id": "d1195276-bd56-4dab-ad5e-51eec585789d",
   "metadata": {
    "execution": {
     "iopub.execute_input": "2023-04-11T15:46:08.917924Z",
     "iopub.status.busy": "2023-04-11T15:46:08.917576Z",
     "iopub.status.idle": "2023-04-11T15:46:09.938667Z",
     "shell.execute_reply": "2023-04-11T15:46:09.936207Z",
     "shell.execute_reply.started": "2023-04-11T15:46:08.917885Z"
    },
    "tags": []
   },
   "outputs": [
    {
     "data": {
      "application/vnd.jupyter.widget-view+json": {
       "model_id": "565112f4a9f64593b4d103cc73934513",
       "version_major": 2,
       "version_minor": 0
      },
      "text/plain": [
       "VBox()"
      ]
     },
     "metadata": {},
     "output_type": "display_data"
    },
    {
     "data": {
      "application/vnd.jupyter.widget-view+json": {
       "model_id": "",
       "version_major": 2,
       "version_minor": 0
      },
      "text/plain": [
       "FloatProgress(value=0.0, bar_style='info', description='Progress:', layout=Layout(height='25px', width='50%'),…"
      ]
     },
     "metadata": {},
     "output_type": "display_data"
    },
    {
     "name": "stdout",
     "output_type": "stream",
     "text": [
      "+----+-------+---+----+-------+--------------+---------+-------------------+\n",
      "|year|month  |day|hour|weekday|full_date     |full_time|full_date_time     |\n",
      "+----+-------+---+----+-------+--------------+---------+-------------------+\n",
      "|2017|January|1  |0   |Sunday |2017-January-1|0:00:00  |2017-01-01 00:00:00|\n",
      "|2017|January|1  |0   |Sunday |2017-January-1|0:00:00  |2017-01-01 00:00:00|\n",
      "|2017|January|1  |0   |Sunday |2017-January-1|0:00:00  |2017-01-01 00:00:00|\n",
      "|2017|January|1  |0   |Sunday |2017-January-1|0:00:00  |2017-01-01 00:00:00|\n",
      "|2017|January|1  |0   |Sunday |2017-January-1|0:00:00  |2017-01-01 00:00:00|\n",
      "+----+-------+---+----+-------+--------------+---------+-------------------+\n",
      "only showing top 5 rows"
     ]
    }
   ],
   "source": [
    "date.show(5, truncate = False)"
   ]
  },
  {
   "cell_type": "code",
   "execution_count": 55,
   "id": "2a667a1c-e9ce-40e6-b4c8-8b6f309e8422",
   "metadata": {
    "execution": {
     "iopub.execute_input": "2023-04-11T15:46:09.942926Z",
     "iopub.status.busy": "2023-04-11T15:46:09.941369Z",
     "iopub.status.idle": "2023-04-11T15:46:10.266227Z",
     "shell.execute_reply": "2023-04-11T15:46:10.264284Z",
     "shell.execute_reply.started": "2023-04-11T15:46:09.942874Z"
    },
    "tags": []
   },
   "outputs": [
    {
     "data": {
      "application/vnd.jupyter.widget-view+json": {
       "model_id": "a383fed38e0e4c6c9b10a75cd5d713f9",
       "version_major": 2,
       "version_minor": 0
      },
      "text/plain": [
       "VBox()"
      ]
     },
     "metadata": {},
     "output_type": "display_data"
    },
    {
     "data": {
      "application/vnd.jupyter.widget-view+json": {
       "model_id": "",
       "version_major": 2,
       "version_minor": 0
      },
      "text/plain": [
       "FloatProgress(value=0.0, bar_style='info', description='Progress:', layout=Layout(height='25px', width='50%'),…"
      ]
     },
     "metadata": {},
     "output_type": "display_data"
    }
   ],
   "source": [
    "# selecting the required columns and making sure records are distinct\n",
    "date = date.select('year', 'month', 'day', 'hour', 'weekday', 'full_date_time').distinct()"
   ]
  },
  {
   "cell_type": "code",
   "execution_count": 56,
   "id": "7d5a7e1c-0b49-4895-9633-bb6c35da7065",
   "metadata": {
    "execution": {
     "iopub.execute_input": "2023-04-11T15:46:10.280679Z",
     "iopub.status.busy": "2023-04-11T15:46:10.271381Z",
     "iopub.status.idle": "2023-04-11T15:46:34.682053Z",
     "shell.execute_reply": "2023-04-11T15:46:34.676455Z",
     "shell.execute_reply.started": "2023-04-11T15:46:10.280609Z"
    },
    "tags": []
   },
   "outputs": [
    {
     "data": {
      "application/vnd.jupyter.widget-view+json": {
       "model_id": "6b717a96599a47c2b74a9d21331e82c7",
       "version_major": 2,
       "version_minor": 0
      },
      "text/plain": [
       "VBox()"
      ]
     },
     "metadata": {},
     "output_type": "display_data"
    },
    {
     "data": {
      "application/vnd.jupyter.widget-view+json": {
       "model_id": "",
       "version_major": 2,
       "version_minor": 0
      },
      "text/plain": [
       "FloatProgress(value=0.0, bar_style='info', description='Progress:', layout=Layout(height='25px', width='50%'),…"
      ]
     },
     "metadata": {},
     "output_type": "display_data"
    },
    {
     "name": "stdout",
     "output_type": "stream",
     "text": [
      "+----+--------+---+----+-------+-------------------+-------+\n",
      "|year|   month|day|hour|weekday|     full_date_time|date_id|\n",
      "+----+--------+---+----+-------+-------------------+-------+\n",
      "|2017| January|  6|   8| Friday|2017-01-06 08:00:00|      0|\n",
      "|2017| January| 16|  18| Monday|2017-01-16 18:00:00|      1|\n",
      "|2017| January| 29|   8| Sunday|2017-01-29 08:00:00|      2|\n",
      "|2017|February| 26|   8| Sunday|2017-02-26 08:00:00|      3|\n",
      "|2017|   March| 14|   6|Tuesday|2017-03-14 06:00:00|      4|\n",
      "+----+--------+---+----+-------+-------------------+-------+\n",
      "only showing top 5 rows"
     ]
    }
   ],
   "source": [
    "# creating the primary key column\n",
    "df_temp = date.rdd.zipWithIndex().toDF()\n",
    "DIM_DATE = df_temp.select(col(\"_1.*\"),col(\"_2\").alias('date_id'))\n",
    "DIM_DATE.show(5)"
   ]
  },
  {
   "cell_type": "code",
   "execution_count": 57,
   "id": "78c92d01-d90f-4f70-9570-b9f9dd5a1931",
   "metadata": {
    "execution": {
     "iopub.execute_input": "2023-04-11T15:46:34.690938Z",
     "iopub.status.busy": "2023-04-11T15:46:34.690132Z",
     "iopub.status.idle": "2023-04-11T15:46:35.062771Z",
     "shell.execute_reply": "2023-04-11T15:46:35.061580Z",
     "shell.execute_reply.started": "2023-04-11T15:46:34.690894Z"
    },
    "tags": []
   },
   "outputs": [
    {
     "data": {
      "application/vnd.jupyter.widget-view+json": {
       "model_id": "18a9b3b425a64096af563695e48d9c15",
       "version_major": 2,
       "version_minor": 0
      },
      "text/plain": [
       "VBox()"
      ]
     },
     "metadata": {},
     "output_type": "display_data"
    },
    {
     "data": {
      "application/vnd.jupyter.widget-view+json": {
       "model_id": "",
       "version_major": 2,
       "version_minor": 0
      },
      "text/plain": [
       "FloatProgress(value=0.0, bar_style='info', description='Progress:', layout=Layout(height='25px', width='50%'),…"
      ]
     },
     "metadata": {},
     "output_type": "display_data"
    }
   ],
   "source": [
    "# rearranging the columns according to the target model\n",
    "DIM_DATE = DIM_DATE.select('date_id', 'full_date_time', 'year', 'month', 'day', 'hour', 'weekday')"
   ]
  },
  {
   "cell_type": "code",
   "execution_count": 58,
   "id": "95695c12-44a1-427a-8756-1e61f22c0ede",
   "metadata": {
    "execution": {
     "iopub.execute_input": "2023-04-11T15:46:35.064983Z",
     "iopub.status.busy": "2023-04-11T15:46:35.064173Z",
     "iopub.status.idle": "2023-04-11T15:46:35.379773Z",
     "shell.execute_reply": "2023-04-11T15:46:35.378727Z",
     "shell.execute_reply.started": "2023-04-11T15:46:35.064936Z"
    },
    "tags": []
   },
   "outputs": [
    {
     "data": {
      "application/vnd.jupyter.widget-view+json": {
       "model_id": "07a1950d774a431393137ef169926241",
       "version_major": 2,
       "version_minor": 0
      },
      "text/plain": [
       "VBox()"
      ]
     },
     "metadata": {},
     "output_type": "display_data"
    },
    {
     "data": {
      "application/vnd.jupyter.widget-view+json": {
       "model_id": "",
       "version_major": 2,
       "version_minor": 0
      },
      "text/plain": [
       "FloatProgress(value=0.0, bar_style='info', description='Progress:', layout=Layout(height='25px', width='50%'),…"
      ]
     },
     "metadata": {},
     "output_type": "display_data"
    },
    {
     "name": "stdout",
     "output_type": "stream",
     "text": [
      "['date_id', 'full_date_time', 'year', 'month', 'day', 'hour', 'weekday']"
     ]
    }
   ],
   "source": [
    "# checking that all required columns are present and named correctly\n",
    "DIM_DATE.columns"
   ]
  },
  {
   "cell_type": "code",
   "execution_count": 59,
   "id": "18a95009-a322-4fa1-8c10-b37b6669def0",
   "metadata": {
    "execution": {
     "iopub.execute_input": "2023-04-11T15:46:35.382471Z",
     "iopub.status.busy": "2023-04-11T15:46:35.381616Z",
     "iopub.status.idle": "2023-04-11T15:46:36.466577Z",
     "shell.execute_reply": "2023-04-11T15:46:36.465563Z",
     "shell.execute_reply.started": "2023-04-11T15:46:35.382429Z"
    },
    "tags": []
   },
   "outputs": [
    {
     "data": {
      "application/vnd.jupyter.widget-view+json": {
       "model_id": "e374d12125764ea6b78f0ae29583fdd5",
       "version_major": 2,
       "version_minor": 0
      },
      "text/plain": [
       "VBox()"
      ]
     },
     "metadata": {},
     "output_type": "display_data"
    },
    {
     "data": {
      "application/vnd.jupyter.widget-view+json": {
       "model_id": "",
       "version_major": 2,
       "version_minor": 0
      },
      "text/plain": [
       "FloatProgress(value=0.0, bar_style='info', description='Progress:', layout=Layout(height='25px', width='50%'),…"
      ]
     },
     "metadata": {},
     "output_type": "display_data"
    },
    {
     "name": "stdout",
     "output_type": "stream",
     "text": [
      "8685"
     ]
    }
   ],
   "source": [
    "# validating the count of the dataframe\n",
    "DIM_DATE.select('*').count()"
   ]
  },
  {
   "cell_type": "code",
   "execution_count": 60,
   "id": "b41457f6-3ef6-4731-b7f3-835f1e95769f",
   "metadata": {
    "execution": {
     "iopub.execute_input": "2023-04-11T15:46:36.469367Z",
     "iopub.status.busy": "2023-04-11T15:46:36.468965Z",
     "iopub.status.idle": "2023-04-11T15:46:36.799195Z",
     "shell.execute_reply": "2023-04-11T15:46:36.798054Z",
     "shell.execute_reply.started": "2023-04-11T15:46:36.469317Z"
    },
    "tags": []
   },
   "outputs": [
    {
     "data": {
      "application/vnd.jupyter.widget-view+json": {
       "model_id": "55ff99060f314369bc853153bda5bb23",
       "version_major": 2,
       "version_minor": 0
      },
      "text/plain": [
       "VBox()"
      ]
     },
     "metadata": {},
     "output_type": "display_data"
    },
    {
     "data": {
      "application/vnd.jupyter.widget-view+json": {
       "model_id": "",
       "version_major": 2,
       "version_minor": 0
      },
      "text/plain": [
       "FloatProgress(value=0.0, bar_style='info', description='Progress:', layout=Layout(height='25px', width='50%'),…"
      ]
     },
     "metadata": {},
     "output_type": "display_data"
    }
   ],
   "source": [
    "#### Creating a dataframe for Card Type Dimension according to Target Dimension Model"
   ]
  },
  {
   "cell_type": "code",
   "execution_count": 61,
   "id": "557752f5-3829-4025-8839-54a4112ee6ed",
   "metadata": {
    "execution": {
     "iopub.execute_input": "2023-04-11T15:46:36.804239Z",
     "iopub.status.busy": "2023-04-11T15:46:36.803487Z",
     "iopub.status.idle": "2023-04-11T15:46:37.166609Z",
     "shell.execute_reply": "2023-04-11T15:46:37.165705Z",
     "shell.execute_reply.started": "2023-04-11T15:46:36.804196Z"
    },
    "tags": []
   },
   "outputs": [
    {
     "data": {
      "application/vnd.jupyter.widget-view+json": {
       "model_id": "80349622d0b840beb3aaf73921f54227",
       "version_major": 2,
       "version_minor": 0
      },
      "text/plain": [
       "VBox()"
      ]
     },
     "metadata": {},
     "output_type": "display_data"
    },
    {
     "data": {
      "application/vnd.jupyter.widget-view+json": {
       "model_id": "",
       "version_major": 2,
       "version_minor": 0
      },
      "text/plain": [
       "FloatProgress(value=0.0, bar_style='info', description='Progress:', layout=Layout(height='25px', width='50%'),…"
      ]
     },
     "metadata": {},
     "output_type": "display_data"
    }
   ],
   "source": [
    "# creating a temporary df and selecting required columns and making sure records are distinct\n",
    "card_type = df.select('card_type').distinct()"
   ]
  },
  {
   "cell_type": "code",
   "execution_count": 62,
   "id": "76014ad1-6093-4a84-a3d6-5024f44d950b",
   "metadata": {
    "execution": {
     "iopub.execute_input": "2023-04-11T15:46:37.167940Z",
     "iopub.status.busy": "2023-04-11T15:46:37.167690Z",
     "iopub.status.idle": "2023-04-11T15:46:42.819627Z",
     "shell.execute_reply": "2023-04-11T15:46:42.818742Z",
     "shell.execute_reply.started": "2023-04-11T15:46:37.167915Z"
    },
    "tags": []
   },
   "outputs": [
    {
     "data": {
      "application/vnd.jupyter.widget-view+json": {
       "model_id": "ecae7d8d530c4ce5bfba2b09b77d1ec1",
       "version_major": 2,
       "version_minor": 0
      },
      "text/plain": [
       "VBox()"
      ]
     },
     "metadata": {},
     "output_type": "display_data"
    },
    {
     "data": {
      "application/vnd.jupyter.widget-view+json": {
       "model_id": "",
       "version_major": 2,
       "version_minor": 0
      },
      "text/plain": [
       "FloatProgress(value=0.0, bar_style='info', description='Progress:', layout=Layout(height='25px', width='50%'),…"
      ]
     },
     "metadata": {},
     "output_type": "display_data"
    },
    {
     "name": "stdout",
     "output_type": "stream",
     "text": [
      "+--------------------+------------+\n",
      "|           card_type|card_type_id|\n",
      "+--------------------+------------+\n",
      "|Visa Dankort - on-us|           0|\n",
      "|  Mastercard - on-us|           1|\n",
      "|         HÃƒÂ¦vekort|           2|\n",
      "|            VisaPlus|           3|\n",
      "|     Dankort - on-us|           4|\n",
      "+--------------------+------------+\n",
      "only showing top 5 rows"
     ]
    }
   ],
   "source": [
    "# creating the primary key column\n",
    "df_temp = card_type.rdd.zipWithIndex().toDF()\n",
    "DIM_CARD_TYPE = df_temp.select(col(\"_1.*\"),col(\"_2\").alias('card_type_id'))\n",
    "DIM_CARD_TYPE.show(5)"
   ]
  },
  {
   "cell_type": "code",
   "execution_count": 63,
   "id": "01c54b42-4b2e-43c2-a966-0a9e97f676d1",
   "metadata": {
    "execution": {
     "iopub.execute_input": "2023-04-11T15:46:42.825176Z",
     "iopub.status.busy": "2023-04-11T15:46:42.824772Z",
     "iopub.status.idle": "2023-04-11T15:46:43.085667Z",
     "shell.execute_reply": "2023-04-11T15:46:43.084798Z",
     "shell.execute_reply.started": "2023-04-11T15:46:42.825145Z"
    },
    "tags": []
   },
   "outputs": [
    {
     "data": {
      "application/vnd.jupyter.widget-view+json": {
       "model_id": "268950cc6f1342f5bc6b3548ce32c255",
       "version_major": 2,
       "version_minor": 0
      },
      "text/plain": [
       "VBox()"
      ]
     },
     "metadata": {},
     "output_type": "display_data"
    },
    {
     "data": {
      "application/vnd.jupyter.widget-view+json": {
       "model_id": "",
       "version_major": 2,
       "version_minor": 0
      },
      "text/plain": [
       "FloatProgress(value=0.0, bar_style='info', description='Progress:', layout=Layout(height='25px', width='50%'),…"
      ]
     },
     "metadata": {},
     "output_type": "display_data"
    }
   ],
   "source": [
    "# rearranging the columns according to the target model\n",
    "DIM_CARD_TYPE = DIM_CARD_TYPE.select('card_type_id', 'card_type')"
   ]
  },
  {
   "cell_type": "code",
   "execution_count": 64,
   "id": "bba57f38-aadb-440f-a06d-e8c5d93a7279",
   "metadata": {
    "execution": {
     "iopub.execute_input": "2023-04-11T15:46:43.089115Z",
     "iopub.status.busy": "2023-04-11T15:46:43.088267Z",
     "iopub.status.idle": "2023-04-11T15:46:43.392183Z",
     "shell.execute_reply": "2023-04-11T15:46:43.391172Z",
     "shell.execute_reply.started": "2023-04-11T15:46:43.089073Z"
    },
    "tags": []
   },
   "outputs": [
    {
     "data": {
      "application/vnd.jupyter.widget-view+json": {
       "model_id": "2115579c801946608857549d8dae89cf",
       "version_major": 2,
       "version_minor": 0
      },
      "text/plain": [
       "VBox()"
      ]
     },
     "metadata": {},
     "output_type": "display_data"
    },
    {
     "data": {
      "application/vnd.jupyter.widget-view+json": {
       "model_id": "",
       "version_major": 2,
       "version_minor": 0
      },
      "text/plain": [
       "FloatProgress(value=0.0, bar_style='info', description='Progress:', layout=Layout(height='25px', width='50%'),…"
      ]
     },
     "metadata": {},
     "output_type": "display_data"
    },
    {
     "name": "stdout",
     "output_type": "stream",
     "text": [
      "['card_type_id', 'card_type']"
     ]
    }
   ],
   "source": [
    "# checking that all required columns are present and named correctly\n",
    "DIM_CARD_TYPE.columns"
   ]
  },
  {
   "cell_type": "code",
   "execution_count": 65,
   "id": "01e65935-c503-4093-9ac8-ca47063571c8",
   "metadata": {
    "execution": {
     "iopub.execute_input": "2023-04-11T15:46:43.394801Z",
     "iopub.status.busy": "2023-04-11T15:46:43.394054Z",
     "iopub.status.idle": "2023-04-11T15:46:44.524534Z",
     "shell.execute_reply": "2023-04-11T15:46:44.523546Z",
     "shell.execute_reply.started": "2023-04-11T15:46:43.394771Z"
    },
    "tags": []
   },
   "outputs": [
    {
     "data": {
      "application/vnd.jupyter.widget-view+json": {
       "model_id": "4abd4192e9fd4edd98b5b585893b3c41",
       "version_major": 2,
       "version_minor": 0
      },
      "text/plain": [
       "VBox()"
      ]
     },
     "metadata": {},
     "output_type": "display_data"
    },
    {
     "data": {
      "application/vnd.jupyter.widget-view+json": {
       "model_id": "",
       "version_major": 2,
       "version_minor": 0
      },
      "text/plain": [
       "FloatProgress(value=0.0, bar_style='info', description='Progress:', layout=Layout(height='25px', width='50%'),…"
      ]
     },
     "metadata": {},
     "output_type": "display_data"
    },
    {
     "name": "stdout",
     "output_type": "stream",
     "text": [
      "12"
     ]
    }
   ],
   "source": [
    "# validating the count of the dataframe\n",
    "DIM_CARD_TYPE.select('*').count()"
   ]
  },
  {
   "cell_type": "code",
   "execution_count": 66,
   "id": "dc37e0d5-e617-4e14-9608-42a136f4f73a",
   "metadata": {
    "execution": {
     "iopub.execute_input": "2023-04-11T15:46:44.532566Z",
     "iopub.status.busy": "2023-04-11T15:46:44.532226Z",
     "iopub.status.idle": "2023-04-11T15:46:44.782789Z",
     "shell.execute_reply": "2023-04-11T15:46:44.781412Z",
     "shell.execute_reply.started": "2023-04-11T15:46:44.532537Z"
    },
    "tags": []
   },
   "outputs": [
    {
     "data": {
      "application/vnd.jupyter.widget-view+json": {
       "model_id": "1f79193eb13c4cebaba3ff31708bbb5b",
       "version_major": 2,
       "version_minor": 0
      },
      "text/plain": [
       "VBox()"
      ]
     },
     "metadata": {},
     "output_type": "display_data"
    },
    {
     "data": {
      "application/vnd.jupyter.widget-view+json": {
       "model_id": "",
       "version_major": 2,
       "version_minor": 0
      },
      "text/plain": [
       "FloatProgress(value=0.0, bar_style='info', description='Progress:', layout=Layout(height='25px', width='50%'),…"
      ]
     },
     "metadata": {},
     "output_type": "display_data"
    }
   ],
   "source": [
    "#### Creating the Transaction Fact Table according to Target Model"
   ]
  },
  {
   "cell_type": "code",
   "execution_count": 67,
   "id": "d4a208a0-eb98-43c7-94e7-ffd29caa8a85",
   "metadata": {
    "execution": {
     "iopub.execute_input": "2023-04-11T15:46:44.785961Z",
     "iopub.status.busy": "2023-04-11T15:46:44.784796Z",
     "iopub.status.idle": "2023-04-11T15:46:45.102551Z",
     "shell.execute_reply": "2023-04-11T15:46:45.101456Z",
     "shell.execute_reply.started": "2023-04-11T15:46:44.785782Z"
    },
    "tags": []
   },
   "outputs": [
    {
     "data": {
      "application/vnd.jupyter.widget-view+json": {
       "model_id": "ffc3c3ab12bc4f2582a318ec1a723947",
       "version_major": 2,
       "version_minor": 0
      },
      "text/plain": [
       "VBox()"
      ]
     },
     "metadata": {},
     "output_type": "display_data"
    },
    {
     "data": {
      "application/vnd.jupyter.widget-view+json": {
       "model_id": "",
       "version_major": 2,
       "version_minor": 0
      },
      "text/plain": [
       "FloatProgress(value=0.0, bar_style='info', description='Progress:', layout=Layout(height='25px', width='50%'),…"
      ]
     },
     "metadata": {},
     "output_type": "display_data"
    }
   ],
   "source": [
    "# Stage 1 of FACT_ATM_TRANS Table -> joining original dataframe with DIM_LOC"
   ]
  },
  {
   "cell_type": "code",
   "execution_count": 68,
   "id": "9eac8a59-3188-4aee-97a8-5c58ce50c617",
   "metadata": {
    "execution": {
     "iopub.execute_input": "2023-04-11T15:46:45.104277Z",
     "iopub.status.busy": "2023-04-11T15:46:45.103982Z",
     "iopub.status.idle": "2023-04-11T15:46:45.472907Z",
     "shell.execute_reply": "2023-04-11T15:46:45.471784Z",
     "shell.execute_reply.started": "2023-04-11T15:46:45.104250Z"
    },
    "tags": []
   },
   "outputs": [
    {
     "data": {
      "application/vnd.jupyter.widget-view+json": {
       "model_id": "c10ed7978c2849228f7ebd43e2a6d497",
       "version_major": 2,
       "version_minor": 0
      },
      "text/plain": [
       "VBox()"
      ]
     },
     "metadata": {},
     "output_type": "display_data"
    },
    {
     "data": {
      "application/vnd.jupyter.widget-view+json": {
       "model_id": "",
       "version_major": 2,
       "version_minor": 0
      },
      "text/plain": [
       "FloatProgress(value=0.0, bar_style='info', description='Progress:', layout=Layout(height='25px', width='50%'),…"
      ]
     },
     "metadata": {},
     "output_type": "display_data"
    }
   ],
   "source": [
    "# renaming the colums as per requirement\n",
    "fact_loc = df.withColumnRenamed('atm_location','location').withColumnRenamed('atm_streetname','streetname').withColumnRenamed('atm_street_number','street_number').withColumnRenamed('atm_zipcode','zipcode').withColumnRenamed('atm_lat','lat').withColumnRenamed('atm_lon','lon')"
   ]
  },
  {
   "cell_type": "code",
   "execution_count": 69,
   "id": "231ab406-bd98-4e2d-a409-96dd2a8e8d1d",
   "metadata": {
    "execution": {
     "iopub.execute_input": "2023-04-11T15:46:45.483545Z",
     "iopub.status.busy": "2023-04-11T15:46:45.483109Z",
     "iopub.status.idle": "2023-04-11T15:46:45.859793Z",
     "shell.execute_reply": "2023-04-11T15:46:45.796857Z",
     "shell.execute_reply.started": "2023-04-11T15:46:45.483502Z"
    },
    "tags": []
   },
   "outputs": [
    {
     "data": {
      "application/vnd.jupyter.widget-view+json": {
       "model_id": "5661a70136844bccb225d18a07674ef7",
       "version_major": 2,
       "version_minor": 0
      },
      "text/plain": [
       "VBox()"
      ]
     },
     "metadata": {},
     "output_type": "display_data"
    },
    {
     "data": {
      "application/vnd.jupyter.widget-view+json": {
       "model_id": "",
       "version_major": 2,
       "version_minor": 0
      },
      "text/plain": [
       "FloatProgress(value=0.0, bar_style='info', description='Progress:', layout=Layout(height='25px', width='50%'),…"
      ]
     },
     "metadata": {},
     "output_type": "display_data"
    }
   ],
   "source": [
    "# joining the dfs\n",
    "fact_loc = fact_loc.join(DIM_LOCATION, on = ['location', 'streetname', 'street_number', 'zipcode', 'lat', 'lon'], how = \"left\")"
   ]
  },
  {
   "cell_type": "code",
   "execution_count": 70,
   "id": "c6dd056a-2ed3-4411-97b8-69bdd222cb09",
   "metadata": {
    "execution": {
     "iopub.execute_input": "2023-04-11T15:46:45.862410Z",
     "iopub.status.busy": "2023-04-11T15:46:45.862086Z",
     "iopub.status.idle": "2023-04-11T15:46:46.179459Z",
     "shell.execute_reply": "2023-04-11T15:46:46.178119Z",
     "shell.execute_reply.started": "2023-04-11T15:46:45.862382Z"
    },
    "tags": []
   },
   "outputs": [
    {
     "data": {
      "application/vnd.jupyter.widget-view+json": {
       "model_id": "67004705bcbf4aa29581d4e0ffd299d6",
       "version_major": 2,
       "version_minor": 0
      },
      "text/plain": [
       "VBox()"
      ]
     },
     "metadata": {},
     "output_type": "display_data"
    },
    {
     "data": {
      "application/vnd.jupyter.widget-view+json": {
       "model_id": "",
       "version_major": 2,
       "version_minor": 0
      },
      "text/plain": [
       "FloatProgress(value=0.0, bar_style='info', description='Progress:', layout=Layout(height='25px', width='50%'),…"
      ]
     },
     "metadata": {},
     "output_type": "display_data"
    },
    {
     "name": "stdout",
     "output_type": "stream",
     "text": [
      "['location', 'streetname', 'street_number', 'zipcode', 'lat', 'lon', 'year', 'month', 'day', 'weekday', 'hour', 'atm_status', 'atm_id', 'atm_manufacturer', 'currency', 'card_type', 'transaction_amount', 'service', 'message_code', 'message_text', 'weather_lat', 'weather_lon', 'weather_city_id', 'weather_city_name', 'temp', 'pressure', 'humidity', 'wind_speed', 'wind_deg', 'rain_3h', 'clouds_all', 'weather_id', 'weather_main', 'weather_description', 'location_id']"
     ]
    }
   ],
   "source": [
    "# viewing the columns\n",
    "fact_loc.columns"
   ]
  },
  {
   "cell_type": "code",
   "execution_count": 71,
   "id": "98637ded-5ccc-4314-898f-b26ebeba530d",
   "metadata": {
    "execution": {
     "iopub.execute_input": "2023-04-11T15:46:46.181763Z",
     "iopub.status.busy": "2023-04-11T15:46:46.180953Z",
     "iopub.status.idle": "2023-04-11T15:46:55.923498Z",
     "shell.execute_reply": "2023-04-11T15:46:55.921887Z",
     "shell.execute_reply.started": "2023-04-11T15:46:46.181719Z"
    },
    "tags": []
   },
   "outputs": [
    {
     "data": {
      "application/vnd.jupyter.widget-view+json": {
       "model_id": "f8bab0773c334500acbb612d564bcc79",
       "version_major": 2,
       "version_minor": 0
      },
      "text/plain": [
       "VBox()"
      ]
     },
     "metadata": {},
     "output_type": "display_data"
    },
    {
     "data": {
      "application/vnd.jupyter.widget-view+json": {
       "model_id": "",
       "version_major": 2,
       "version_minor": 0
      },
      "text/plain": [
       "FloatProgress(value=0.0, bar_style='info', description='Progress:', layout=Layout(height='25px', width='50%'),…"
      ]
     },
     "metadata": {},
     "output_type": "display_data"
    },
    {
     "name": "stdout",
     "output_type": "stream",
     "text": [
      "2468572"
     ]
    }
   ],
   "source": [
    "# Validating the count of the df at the end of Stage 1\n",
    "fact_loc.select('*').count()"
   ]
  },
  {
   "cell_type": "code",
   "execution_count": 72,
   "id": "cfc99a23-b2f0-482a-9fe9-a6b7826ede01",
   "metadata": {
    "execution": {
     "iopub.execute_input": "2023-04-11T15:46:55.926079Z",
     "iopub.status.busy": "2023-04-11T15:46:55.925345Z",
     "iopub.status.idle": "2023-04-11T15:46:56.198553Z",
     "shell.execute_reply": "2023-04-11T15:46:56.197458Z",
     "shell.execute_reply.started": "2023-04-11T15:46:55.926036Z"
    },
    "tags": []
   },
   "outputs": [
    {
     "data": {
      "application/vnd.jupyter.widget-view+json": {
       "model_id": "a4a8b53b847b48f8825cdcd1b5bff8df",
       "version_major": 2,
       "version_minor": 0
      },
      "text/plain": [
       "VBox()"
      ]
     },
     "metadata": {},
     "output_type": "display_data"
    },
    {
     "data": {
      "application/vnd.jupyter.widget-view+json": {
       "model_id": "",
       "version_major": 2,
       "version_minor": 0
      },
      "text/plain": [
       "FloatProgress(value=0.0, bar_style='info', description='Progress:', layout=Layout(height='25px', width='50%'),…"
      ]
     },
     "metadata": {},
     "output_type": "display_data"
    }
   ],
   "source": [
    "# Stage 2 of FACT_ATM_TRANS Table -> joining the dataframe with DIM_ATM"
   ]
  },
  {
   "cell_type": "code",
   "execution_count": 73,
   "id": "b2e7e52d-dcb0-456c-9d1c-add193d405ef",
   "metadata": {
    "execution": {
     "iopub.execute_input": "2023-04-11T15:46:56.201445Z",
     "iopub.status.busy": "2023-04-11T15:46:56.200570Z",
     "iopub.status.idle": "2023-04-11T15:46:56.586798Z",
     "shell.execute_reply": "2023-04-11T15:46:56.581759Z",
     "shell.execute_reply.started": "2023-04-11T15:46:56.201402Z"
    },
    "tags": []
   },
   "outputs": [
    {
     "data": {
      "application/vnd.jupyter.widget-view+json": {
       "model_id": "c8e449278173464daf361b6874e15a5a",
       "version_major": 2,
       "version_minor": 0
      },
      "text/plain": [
       "VBox()"
      ]
     },
     "metadata": {},
     "output_type": "display_data"
    },
    {
     "data": {
      "application/vnd.jupyter.widget-view+json": {
       "model_id": "",
       "version_major": 2,
       "version_minor": 0
      },
      "text/plain": [
       "FloatProgress(value=0.0, bar_style='info', description='Progress:', layout=Layout(height='25px', width='50%'),…"
      ]
     },
     "metadata": {},
     "output_type": "display_data"
    }
   ],
   "source": [
    "# renaming the colums as per requirement\n",
    "fact_loc = fact_loc.withColumnRenamed('atm_id', 'atm_number').withColumnRenamed('location_id', 'atm_location_id')"
   ]
  },
  {
   "cell_type": "code",
   "execution_count": 74,
   "id": "e9a1e337-a571-4220-ab21-3ad8b1e9140e",
   "metadata": {
    "execution": {
     "iopub.execute_input": "2023-04-11T15:46:56.593927Z",
     "iopub.status.busy": "2023-04-11T15:46:56.590695Z",
     "iopub.status.idle": "2023-04-11T15:46:56.987201Z",
     "shell.execute_reply": "2023-04-11T15:46:56.981210Z",
     "shell.execute_reply.started": "2023-04-11T15:46:56.593656Z"
    },
    "tags": []
   },
   "outputs": [
    {
     "data": {
      "application/vnd.jupyter.widget-view+json": {
       "model_id": "448d48caaa704c0484d64a2f2bbbc458",
       "version_major": 2,
       "version_minor": 0
      },
      "text/plain": [
       "VBox()"
      ]
     },
     "metadata": {},
     "output_type": "display_data"
    },
    {
     "data": {
      "application/vnd.jupyter.widget-view+json": {
       "model_id": "",
       "version_major": 2,
       "version_minor": 0
      },
      "text/plain": [
       "FloatProgress(value=0.0, bar_style='info', description='Progress:', layout=Layout(height='25px', width='50%'),…"
      ]
     },
     "metadata": {},
     "output_type": "display_data"
    }
   ],
   "source": [
    "# joining the dfs\n",
    "fact_atm = fact_loc.join(DIM_ATM, on = ['atm_number', 'atm_manufacturer', 'atm_location_id'], how = \"left\")"
   ]
  },
  {
   "cell_type": "code",
   "execution_count": 75,
   "id": "ff6c438d-469b-40b2-9e87-87e8989c040b",
   "metadata": {
    "execution": {
     "iopub.execute_input": "2023-04-11T15:46:56.989723Z",
     "iopub.status.busy": "2023-04-11T15:46:56.988958Z",
     "iopub.status.idle": "2023-04-11T15:46:57.386027Z",
     "shell.execute_reply": "2023-04-11T15:46:57.384818Z",
     "shell.execute_reply.started": "2023-04-11T15:46:56.989679Z"
    },
    "tags": []
   },
   "outputs": [
    {
     "data": {
      "application/vnd.jupyter.widget-view+json": {
       "model_id": "df4d5944667c4973a19a97f2d78362d4",
       "version_major": 2,
       "version_minor": 0
      },
      "text/plain": [
       "VBox()"
      ]
     },
     "metadata": {},
     "output_type": "display_data"
    },
    {
     "data": {
      "application/vnd.jupyter.widget-view+json": {
       "model_id": "",
       "version_major": 2,
       "version_minor": 0
      },
      "text/plain": [
       "FloatProgress(value=0.0, bar_style='info', description='Progress:', layout=Layout(height='25px', width='50%'),…"
      ]
     },
     "metadata": {},
     "output_type": "display_data"
    }
   ],
   "source": [
    "# performing necessary transformations, same as done to atm table\n",
    "fact_atm = fact_atm.withColumnRenamed('atm_location_id', 'weather_loc_id')"
   ]
  },
  {
   "cell_type": "code",
   "execution_count": 76,
   "id": "b02ca005-46d4-4286-87b1-43d55e323dfb",
   "metadata": {
    "execution": {
     "iopub.execute_input": "2023-04-11T15:46:57.388618Z",
     "iopub.status.busy": "2023-04-11T15:46:57.387857Z",
     "iopub.status.idle": "2023-04-11T15:47:09.250662Z",
     "shell.execute_reply": "2023-04-11T15:47:09.249186Z",
     "shell.execute_reply.started": "2023-04-11T15:46:57.388577Z"
    },
    "tags": []
   },
   "outputs": [
    {
     "data": {
      "application/vnd.jupyter.widget-view+json": {
       "model_id": "04e5e31c712148089e58469d2e4f54e4",
       "version_major": 2,
       "version_minor": 0
      },
      "text/plain": [
       "VBox()"
      ]
     },
     "metadata": {},
     "output_type": "display_data"
    },
    {
     "data": {
      "application/vnd.jupyter.widget-view+json": {
       "model_id": "",
       "version_major": 2,
       "version_minor": 0
      },
      "text/plain": [
       "FloatProgress(value=0.0, bar_style='info', description='Progress:', layout=Layout(height='25px', width='50%'),…"
      ]
     },
     "metadata": {},
     "output_type": "display_data"
    },
    {
     "name": "stdout",
     "output_type": "stream",
     "text": [
      "2468572"
     ]
    }
   ],
   "source": [
    "# Validating the count of the df at the end of Stage 2\n",
    "fact_atm.select('*').count()"
   ]
  },
  {
   "cell_type": "code",
   "execution_count": 77,
   "id": "07b4d86a-492e-46c4-9473-0400f083f6f2",
   "metadata": {
    "execution": {
     "iopub.execute_input": "2023-04-11T15:47:09.261733Z",
     "iopub.status.busy": "2023-04-11T15:47:09.260651Z",
     "iopub.status.idle": "2023-04-11T15:47:09.578961Z",
     "shell.execute_reply": "2023-04-11T15:47:09.577326Z",
     "shell.execute_reply.started": "2023-04-11T15:47:09.261669Z"
    },
    "tags": []
   },
   "outputs": [
    {
     "data": {
      "application/vnd.jupyter.widget-view+json": {
       "model_id": "cf1c229b3cf442528ab7093f6c0b5f79",
       "version_major": 2,
       "version_minor": 0
      },
      "text/plain": [
       "VBox()"
      ]
     },
     "metadata": {},
     "output_type": "display_data"
    },
    {
     "data": {
      "application/vnd.jupyter.widget-view+json": {
       "model_id": "",
       "version_major": 2,
       "version_minor": 0
      },
      "text/plain": [
       "FloatProgress(value=0.0, bar_style='info', description='Progress:', layout=Layout(height='25px', width='50%'),…"
      ]
     },
     "metadata": {},
     "output_type": "display_data"
    }
   ],
   "source": [
    "# Stage 3 of FACT_ATM_TRANS Table -> joining the dataframe with DIM_DATE"
   ]
  },
  {
   "cell_type": "code",
   "execution_count": 78,
   "id": "543ca649-d3a8-4749-9e0f-d09fb608c691",
   "metadata": {
    "execution": {
     "iopub.execute_input": "2023-04-11T15:47:09.582732Z",
     "iopub.status.busy": "2023-04-11T15:47:09.581538Z",
     "iopub.status.idle": "2023-04-11T15:47:09.976181Z",
     "shell.execute_reply": "2023-04-11T15:47:09.975137Z",
     "shell.execute_reply.started": "2023-04-11T15:47:09.582680Z"
    },
    "tags": []
   },
   "outputs": [
    {
     "data": {
      "application/vnd.jupyter.widget-view+json": {
       "model_id": "55a8b4bc95db41ff828a15999cb6477d",
       "version_major": 2,
       "version_minor": 0
      },
      "text/plain": [
       "VBox()"
      ]
     },
     "metadata": {},
     "output_type": "display_data"
    },
    {
     "data": {
      "application/vnd.jupyter.widget-view+json": {
       "model_id": "",
       "version_major": 2,
       "version_minor": 0
      },
      "text/plain": [
       "FloatProgress(value=0.0, bar_style='info', description='Progress:', layout=Layout(height='25px', width='50%'),…"
      ]
     },
     "metadata": {},
     "output_type": "display_data"
    }
   ],
   "source": [
    "# joining the dfs\n",
    "fact_date = fact_atm.join(DIM_DATE, on = ['year', 'month', 'day', 'hour', 'weekday'], how = \"left\")"
   ]
  },
  {
   "cell_type": "code",
   "execution_count": 79,
   "id": "b55a72ef-414e-4fe8-a1be-2376ad83b152",
   "metadata": {
    "execution": {
     "iopub.execute_input": "2023-04-11T15:47:09.980353Z",
     "iopub.status.busy": "2023-04-11T15:47:09.977784Z",
     "iopub.status.idle": "2023-04-11T15:47:23.793624Z",
     "shell.execute_reply": "2023-04-11T15:47:23.791712Z",
     "shell.execute_reply.started": "2023-04-11T15:47:09.980298Z"
    },
    "tags": []
   },
   "outputs": [
    {
     "data": {
      "application/vnd.jupyter.widget-view+json": {
       "model_id": "80992add7b324047b1b3a3b2df04dc66",
       "version_major": 2,
       "version_minor": 0
      },
      "text/plain": [
       "VBox()"
      ]
     },
     "metadata": {},
     "output_type": "display_data"
    },
    {
     "data": {
      "application/vnd.jupyter.widget-view+json": {
       "model_id": "",
       "version_major": 2,
       "version_minor": 0
      },
      "text/plain": [
       "FloatProgress(value=0.0, bar_style='info', description='Progress:', layout=Layout(height='25px', width='50%'),…"
      ]
     },
     "metadata": {},
     "output_type": "display_data"
    },
    {
     "name": "stdout",
     "output_type": "stream",
     "text": [
      "2468572"
     ]
    }
   ],
   "source": [
    "# Validating the count of the df at the end of Stage 3\n",
    "fact_date.select('*').count()"
   ]
  },
  {
   "cell_type": "code",
   "execution_count": 80,
   "id": "4632c211-8a7d-46b2-932e-84f5af7e2250",
   "metadata": {
    "execution": {
     "iopub.execute_input": "2023-04-11T15:47:23.795270Z",
     "iopub.status.busy": "2023-04-11T15:47:23.794899Z",
     "iopub.status.idle": "2023-04-11T15:47:24.099643Z",
     "shell.execute_reply": "2023-04-11T15:47:24.097955Z",
     "shell.execute_reply.started": "2023-04-11T15:47:23.795229Z"
    },
    "tags": []
   },
   "outputs": [
    {
     "data": {
      "application/vnd.jupyter.widget-view+json": {
       "model_id": "f94c806984184221a12baf004b96c40c",
       "version_major": 2,
       "version_minor": 0
      },
      "text/plain": [
       "VBox()"
      ]
     },
     "metadata": {},
     "output_type": "display_data"
    },
    {
     "data": {
      "application/vnd.jupyter.widget-view+json": {
       "model_id": "",
       "version_major": 2,
       "version_minor": 0
      },
      "text/plain": [
       "FloatProgress(value=0.0, bar_style='info', description='Progress:', layout=Layout(height='25px', width='50%'),…"
      ]
     },
     "metadata": {},
     "output_type": "display_data"
    }
   ],
   "source": [
    "# Stage 4 of FACT_ATM_TRANS Table -> joining the dataframe with DIM_CARD_TYPE"
   ]
  },
  {
   "cell_type": "code",
   "execution_count": 81,
   "id": "b9547ffc-bd22-485d-b5e8-7e1c0f9c2a20",
   "metadata": {
    "execution": {
     "iopub.execute_input": "2023-04-11T15:47:24.106567Z",
     "iopub.status.busy": "2023-04-11T15:47:24.105795Z",
     "iopub.status.idle": "2023-04-11T15:47:24.486117Z",
     "shell.execute_reply": "2023-04-11T15:47:24.485036Z",
     "shell.execute_reply.started": "2023-04-11T15:47:24.106522Z"
    },
    "tags": []
   },
   "outputs": [
    {
     "data": {
      "application/vnd.jupyter.widget-view+json": {
       "model_id": "05c0dea077c143b6a9391bd22462e562",
       "version_major": 2,
       "version_minor": 0
      },
      "text/plain": [
       "VBox()"
      ]
     },
     "metadata": {},
     "output_type": "display_data"
    },
    {
     "data": {
      "application/vnd.jupyter.widget-view+json": {
       "model_id": "",
       "version_major": 2,
       "version_minor": 0
      },
      "text/plain": [
       "FloatProgress(value=0.0, bar_style='info', description='Progress:', layout=Layout(height='25px', width='50%'),…"
      ]
     },
     "metadata": {},
     "output_type": "display_data"
    }
   ],
   "source": [
    "# joining the dfs\n",
    "fact_atm_trans = fact_date.join(DIM_CARD_TYPE, on = ['card_type'], how = \"left\")"
   ]
  },
  {
   "cell_type": "code",
   "execution_count": 82,
   "id": "8f0a19b5-d6c4-45d2-95f0-b24d19ce6c37",
   "metadata": {
    "execution": {
     "iopub.execute_input": "2023-04-11T15:47:24.488639Z",
     "iopub.status.busy": "2023-04-11T15:47:24.488257Z",
     "iopub.status.idle": "2023-04-11T15:47:40.459418Z",
     "shell.execute_reply": "2023-04-11T15:47:40.457750Z",
     "shell.execute_reply.started": "2023-04-11T15:47:24.488595Z"
    },
    "tags": []
   },
   "outputs": [
    {
     "data": {
      "application/vnd.jupyter.widget-view+json": {
       "model_id": "7fa41e73dfc14ac68bf1807196c0bd53",
       "version_major": 2,
       "version_minor": 0
      },
      "text/plain": [
       "VBox()"
      ]
     },
     "metadata": {},
     "output_type": "display_data"
    },
    {
     "data": {
      "application/vnd.jupyter.widget-view+json": {
       "model_id": "",
       "version_major": 2,
       "version_minor": 0
      },
      "text/plain": [
       "FloatProgress(value=0.0, bar_style='info', description='Progress:', layout=Layout(height='25px', width='50%'),…"
      ]
     },
     "metadata": {},
     "output_type": "display_data"
    },
    {
     "name": "stdout",
     "output_type": "stream",
     "text": [
      "2468572"
     ]
    }
   ],
   "source": [
    "# Validating the count of the df at the end of Stage 4\n",
    "fact_atm_trans.select('*').count()"
   ]
  },
  {
   "cell_type": "code",
   "execution_count": 83,
   "id": "fcee8ca9-3aa5-4375-a459-101088941a5d",
   "metadata": {
    "execution": {
     "iopub.execute_input": "2023-04-11T15:47:40.462262Z",
     "iopub.status.busy": "2023-04-11T15:47:40.461748Z",
     "iopub.status.idle": "2023-04-11T15:47:40.777603Z",
     "shell.execute_reply": "2023-04-11T15:47:40.776391Z",
     "shell.execute_reply.started": "2023-04-11T15:47:40.462103Z"
    },
    "tags": []
   },
   "outputs": [
    {
     "data": {
      "application/vnd.jupyter.widget-view+json": {
       "model_id": "e16d5db8f5634a10be85a5899912322a",
       "version_major": 2,
       "version_minor": 0
      },
      "text/plain": [
       "VBox()"
      ]
     },
     "metadata": {},
     "output_type": "display_data"
    },
    {
     "data": {
      "application/vnd.jupyter.widget-view+json": {
       "model_id": "",
       "version_major": 2,
       "version_minor": 0
      },
      "text/plain": [
       "FloatProgress(value=0.0, bar_style='info', description='Progress:', layout=Layout(height='25px', width='50%'),…"
      ]
     },
     "metadata": {},
     "output_type": "display_data"
    }
   ],
   "source": [
    "# creating primary key of fact table and viewing 1st record of the table\n",
    "from pyspark.sql.window import Window"
   ]
  },
  {
   "cell_type": "code",
   "execution_count": 84,
   "id": "ef65a3e3-773e-40bd-bd81-25ef828ce357",
   "metadata": {
    "execution": {
     "iopub.execute_input": "2023-04-11T15:47:40.779842Z",
     "iopub.status.busy": "2023-04-11T15:47:40.779445Z",
     "iopub.status.idle": "2023-04-11T15:48:10.928342Z",
     "shell.execute_reply": "2023-04-11T15:48:10.927207Z",
     "shell.execute_reply.started": "2023-04-11T15:47:40.779800Z"
    },
    "tags": []
   },
   "outputs": [
    {
     "data": {
      "application/vnd.jupyter.widget-view+json": {
       "model_id": "213f01925eba43de9c84877c12531e99",
       "version_major": 2,
       "version_minor": 0
      },
      "text/plain": [
       "VBox()"
      ]
     },
     "metadata": {},
     "output_type": "display_data"
    },
    {
     "data": {
      "application/vnd.jupyter.widget-view+json": {
       "model_id": "",
       "version_major": 2,
       "version_minor": 0
      },
      "text/plain": [
       "FloatProgress(value=0.0, bar_style='info', description='Progress:', layout=Layout(height='25px', width='50%'),…"
      ]
     },
     "metadata": {},
     "output_type": "display_data"
    },
    {
     "name": "stdout",
     "output_type": "stream",
     "text": [
      "+----------+----+-------+---+----+-------+----------+----------------+--------------+--------------+-----------+-------------+-------+------+-----+----------+--------+------------------+----------+------------+------------+-----------+-----------+---------------+-----------------+-------+--------+--------+----------+--------+-------+----------+----------+------------+-------------------+------+-------+-------------------+------------+--------+\n",
      "| card_type|year|  month|day|hour|weekday|atm_number|atm_manufacturer|weather_loc_id|      location| streetname|street_number|zipcode|   lat|  lon|atm_status|currency|transaction_amount|   service|message_code|message_text|weather_lat|weather_lon|weather_city_id|weather_city_name|   temp|pressure|humidity|wind_speed|wind_deg|rain_3h|clouds_all|weather_id|weather_main|weather_description|atm_id|date_id|     full_date_time|card_type_id|trans_id|\n",
      "+----------+----+-------+---+----+-------+----------+----------------+--------------+--------------+-----------+-------------+-------+------+-----+----------+--------+------------------+----------+------------+------------+-----------+-----------+---------------+-----------------+-------+--------+--------+----------+--------+-------+----------+----------+------------+-------------------+------+-------+-------------------+------------+--------+\n",
      "|MasterCard|2017|January|  6|   8| Friday|        29|             NCR|             1|Skelagervej 15|Skelagervej|           15|   9000|57.023|9.891|  Inactive|     DKK|              4447|Withdrawal|        null|        null|     57.048|      9.919|        2624886|          Aalborg|267.563|    1050|      71|         5|     211|    0.0|        12|       801|      Clouds|         few clouds|    99|      0|2017-01-06 08:00:00|          10|       1|\n",
      "+----------+----+-------+---+----+-------+----------+----------------+--------------+--------------+-----------+-------------+-------+------+-----+----------+--------+------------------+----------+------------+------------+-----------+-----------+---------------+-----------------+-------+--------+--------+----------+--------+-------+----------+----------+------------+-------------------+------+-------+-------------------+------------+--------+\n",
      "only showing top 1 row"
     ]
    }
   ],
   "source": [
    "w = Window().orderBy('date_id')\n",
    "FACT_ATM_TRANS = fact_atm_trans.withColumn(\"trans_id\", row_number().over(w))\n",
    "FACT_ATM_TRANS.show(1, True)"
   ]
  },
  {
   "cell_type": "code",
   "execution_count": 85,
   "id": "777b11b0-daa5-4616-9376-513b3f2d6de8",
   "metadata": {
    "execution": {
     "iopub.execute_input": "2023-04-11T15:48:10.930445Z",
     "iopub.status.busy": "2023-04-11T15:48:10.929937Z",
     "iopub.status.idle": "2023-04-11T15:48:11.275126Z",
     "shell.execute_reply": "2023-04-11T15:48:11.273431Z",
     "shell.execute_reply.started": "2023-04-11T15:48:10.930404Z"
    },
    "tags": []
   },
   "outputs": [
    {
     "data": {
      "application/vnd.jupyter.widget-view+json": {
       "model_id": "93ab6766da3e42958f79a2762e547ff2",
       "version_major": 2,
       "version_minor": 0
      },
      "text/plain": [
       "VBox()"
      ]
     },
     "metadata": {},
     "output_type": "display_data"
    },
    {
     "data": {
      "application/vnd.jupyter.widget-view+json": {
       "model_id": "",
       "version_major": 2,
       "version_minor": 0
      },
      "text/plain": [
       "FloatProgress(value=0.0, bar_style='info', description='Progress:', layout=Layout(height='25px', width='50%'),…"
      ]
     },
     "metadata": {},
     "output_type": "display_data"
    },
    {
     "name": "stdout",
     "output_type": "stream",
     "text": [
      "['card_type', 'year', 'month', 'day', 'hour', 'weekday', 'atm_number', 'atm_manufacturer', 'weather_loc_id', 'location', 'streetname', 'street_number', 'zipcode', 'lat', 'lon', 'atm_status', 'currency', 'transaction_amount', 'service', 'message_code', 'message_text', 'weather_lat', 'weather_lon', 'weather_city_id', 'weather_city_name', 'temp', 'pressure', 'humidity', 'wind_speed', 'wind_deg', 'rain_3h', 'clouds_all', 'weather_id', 'weather_main', 'weather_description', 'atm_id', 'date_id', 'full_date_time', 'card_type_id', 'trans_id']"
     ]
    }
   ],
   "source": [
    "# viewing the list of columns\n",
    "FACT_ATM_TRANS.columns"
   ]
  },
  {
   "cell_type": "code",
   "execution_count": 86,
   "id": "a3540b66-1a1a-4750-bc9c-9ab1382660aa",
   "metadata": {
    "execution": {
     "iopub.execute_input": "2023-04-11T15:48:11.281919Z",
     "iopub.status.busy": "2023-04-11T15:48:11.281291Z",
     "iopub.status.idle": "2023-04-11T15:48:11.665402Z",
     "shell.execute_reply": "2023-04-11T15:48:11.662700Z",
     "shell.execute_reply.started": "2023-04-11T15:48:11.281802Z"
    },
    "tags": []
   },
   "outputs": [
    {
     "data": {
      "application/vnd.jupyter.widget-view+json": {
       "model_id": "5015a0f2a44b478c980a11b53940aa92",
       "version_major": 2,
       "version_minor": 0
      },
      "text/plain": [
       "VBox()"
      ]
     },
     "metadata": {},
     "output_type": "display_data"
    },
    {
     "data": {
      "application/vnd.jupyter.widget-view+json": {
       "model_id": "",
       "version_major": 2,
       "version_minor": 0
      },
      "text/plain": [
       "FloatProgress(value=0.0, bar_style='info', description='Progress:', layout=Layout(height='25px', width='50%'),…"
      ]
     },
     "metadata": {},
     "output_type": "display_data"
    }
   ],
   "source": [
    "# selecting and arranging only the required columns according to the target model\n",
    "FACT_ATM_TRANS = FACT_ATM_TRANS.select('trans_id', 'atm_id', 'weather_loc_id', 'date_id', 'card_type_id', \n",
    "'atm_status', 'currency', 'service', 'transaction_amount', 'message_code', 'message_text', 'rain_3h', \n",
    "'clouds_all', 'weather_id', 'weather_main', 'weather_description')"
   ]
  },
  {
   "cell_type": "code",
   "execution_count": 87,
   "id": "4e1bcc74-7a46-4075-90cf-64555b471663",
   "metadata": {
    "execution": {
     "iopub.execute_input": "2023-04-11T15:48:11.671323Z",
     "iopub.status.busy": "2023-04-11T15:48:11.669568Z",
     "iopub.status.idle": "2023-04-11T15:48:12.073330Z",
     "shell.execute_reply": "2023-04-11T15:48:12.069262Z",
     "shell.execute_reply.started": "2023-04-11T15:48:11.671262Z"
    },
    "tags": []
   },
   "outputs": [
    {
     "data": {
      "application/vnd.jupyter.widget-view+json": {
       "model_id": "405d336ad7484dceb3e8612e788520c1",
       "version_major": 2,
       "version_minor": 0
      },
      "text/plain": [
       "VBox()"
      ]
     },
     "metadata": {},
     "output_type": "display_data"
    },
    {
     "data": {
      "application/vnd.jupyter.widget-view+json": {
       "model_id": "",
       "version_major": 2,
       "version_minor": 0
      },
      "text/plain": [
       "FloatProgress(value=0.0, bar_style='info', description='Progress:', layout=Layout(height='25px', width='50%'),…"
      ]
     },
     "metadata": {},
     "output_type": "display_data"
    },
    {
     "name": "stdout",
     "output_type": "stream",
     "text": [
      "['trans_id', 'atm_id', 'weather_loc_id', 'date_id', 'card_type_id', 'atm_status', 'currency', 'service', 'transaction_amount', 'message_code', 'message_text', 'rain_3h', 'clouds_all', 'weather_id', 'weather_main', 'weather_description']"
     ]
    }
   ],
   "source": [
    "# checking that all required columns are present and named correctly\n",
    "FACT_ATM_TRANS.columns"
   ]
  },
  {
   "cell_type": "code",
   "execution_count": 88,
   "id": "3d99f935-92ce-4926-857d-2c58c0f59f8a",
   "metadata": {
    "execution": {
     "iopub.execute_input": "2023-04-11T15:48:12.078273Z",
     "iopub.status.busy": "2023-04-11T15:48:12.077299Z",
     "iopub.status.idle": "2023-04-11T15:48:30.224641Z",
     "shell.execute_reply": "2023-04-11T15:48:30.221762Z",
     "shell.execute_reply.started": "2023-04-11T15:48:12.078222Z"
    },
    "tags": []
   },
   "outputs": [
    {
     "data": {
      "application/vnd.jupyter.widget-view+json": {
       "model_id": "015d2096f01848efad26a8deb838c47f",
       "version_major": 2,
       "version_minor": 0
      },
      "text/plain": [
       "VBox()"
      ]
     },
     "metadata": {},
     "output_type": "display_data"
    },
    {
     "data": {
      "application/vnd.jupyter.widget-view+json": {
       "model_id": "",
       "version_major": 2,
       "version_minor": 0
      },
      "text/plain": [
       "FloatProgress(value=0.0, bar_style='info', description='Progress:', layout=Layout(height='25px', width='50%'),…"
      ]
     },
     "metadata": {},
     "output_type": "display_data"
    },
    {
     "name": "stdout",
     "output_type": "stream",
     "text": [
      "2468572"
     ]
    }
   ],
   "source": [
    "# validating the count of the dataframe\n",
    "FACT_ATM_TRANS.select('*').count()"
   ]
  },
  {
   "cell_type": "code",
   "execution_count": 89,
   "id": "db367e71-cbad-4130-83be-9d50cabef7b2",
   "metadata": {
    "execution": {
     "iopub.execute_input": "2023-04-11T15:48:30.244811Z",
     "iopub.status.busy": "2023-04-11T15:48:30.243671Z",
     "iopub.status.idle": "2023-04-11T15:48:30.790391Z",
     "shell.execute_reply": "2023-04-11T15:48:30.789090Z",
     "shell.execute_reply.started": "2023-04-11T15:48:30.244762Z"
    }
   },
   "outputs": [
    {
     "data": {
      "application/vnd.jupyter.widget-view+json": {
       "model_id": "7e0a682e2eb643d9ba9f98d2209142f0",
       "version_major": 2,
       "version_minor": 0
      },
      "text/plain": [
       "VBox()"
      ]
     },
     "metadata": {},
     "output_type": "display_data"
    },
    {
     "data": {
      "application/vnd.jupyter.widget-view+json": {
       "model_id": "",
       "version_major": 2,
       "version_minor": 0
      },
      "text/plain": [
       "FloatProgress(value=0.0, bar_style='info', description='Progress:', layout=Layout(height='25px', width='50%'),…"
      ]
     },
     "metadata": {},
     "output_type": "display_data"
    }
   ],
   "source": [
    "### Writing the PySpark Dataframes to AWS S3 Storage in csv format"
   ]
  },
  {
   "cell_type": "code",
   "execution_count": null,
   "id": "50cd5604-c5fb-49c5-8ce3-ab0c14ffa55f",
   "metadata": {
    "tags": []
   },
   "outputs": [],
   "source": [
    "# writing data from pyspark df 'dim_location' in csv format to dim_location folder in S3 bucket\n",
    "DIM_LOCATION.coalesce(1).write.format('csv').option('header','false').save('s3a://dxetl/dim_location', mode='overwrite')"
   ]
  },
  {
   "cell_type": "code",
   "execution_count": null,
   "id": "7777c86b-4357-4f11-8fbd-e381957bc646",
   "metadata": {
    "tags": []
   },
   "outputs": [],
   "source": [
    "# writing data from pyspark df 'dim_atm' in csv format to dim_atm folder in S3 bucket \n",
    "DIM_ATM.coalesce(1).write.format('csv').option('header','false').save('s3a://dxetl/dim_atm', mode='overwrite')"
   ]
  },
  {
   "cell_type": "code",
   "execution_count": null,
   "id": "03fc01b4-7294-40ea-8dad-8235ad0b97c9",
   "metadata": {
    "tags": []
   },
   "outputs": [],
   "source": [
    "# writing data from pyspark df 'dim_data' in csv format to dim_data folder in S3 bucket \n",
    "DIM_DATE.coalesce(1).write.format('csv').option('header','false').save('s3a://dxetl/dim_date', mode='overwrite')"
   ]
  },
  {
   "cell_type": "code",
   "execution_count": null,
   "id": "8f7a3269-c334-4ba2-b8ae-6f5bf2cf0ae7",
   "metadata": {
    "tags": []
   },
   "outputs": [],
   "source": [
    "# writing data from pyspark df 'dim_card_type' in csv format to dim_card_type folder in S3 bucket \n",
    "DIM_CARD_TYPE.coalesce(1).write.format('csv').option('header','false').save('s3a://dxetl/dim_card_type', mode='overwrite')"
   ]
  },
  {
   "cell_type": "code",
   "execution_count": null,
   "id": "9d669ed0-b271-4936-be52-571ae2d96a27",
   "metadata": {
    "tags": []
   },
   "outputs": [],
   "source": [
    "# writing data from pyspark df 'fact_atm_trans' in csv format to fact_atm_trans folder in S3 bucket \n",
    "FACT_ATM_TRANS.coalesce(1).write.format('csv').option('header','false').save('s3a://dxetl/fact_atm_trans', mode='overwrite')"
   ]
  },
  {
   "cell_type": "code",
   "execution_count": null,
   "id": "1444b080-fc16-4e38-82d1-ee477b97e219",
   "metadata": {},
   "outputs": [],
   "source": []
  },
  {
   "cell_type": "code",
   "execution_count": null,
   "id": "23e4a0ea-7e85-450d-8392-4d43f70e8cc8",
   "metadata": {},
   "outputs": [],
   "source": []
  }
 ],
 "metadata": {
  "kernelspec": {
   "display_name": "PySpark",
   "language": "",
   "name": "pysparkkernel"
  },
  "language_info": {
   "codemirror_mode": {
    "name": "python",
    "version": 2
   },
   "mimetype": "text/x-python",
   "name": "pyspark",
   "pygments_lexer": "python2"
  }
 },
 "nbformat": 4,
 "nbformat_minor": 5
}
